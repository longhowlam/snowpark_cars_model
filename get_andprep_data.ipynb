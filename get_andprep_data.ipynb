{
 "cells": [
  {
   "attachments": {},
   "cell_type": "markdown",
   "id": "7088a527-f2fd-40a8-b698-b45bcaaaa5b8",
   "metadata": {},
   "source": [
    "# Car price modeling with snowpark"
   ]
  },
  {
   "attachments": {},
   "cell_type": "markdown",
   "id": "277825ae-b941-42b6-91fb-ff335dbeb6c0",
   "metadata": {},
   "source": [
    "## setup your local python development environment for snowpark\n",
    "\n",
    "\n",
    "https://docs.snowflake.com/en/developer-guide/snowpark/python/setup\n",
    "\n",
    "## setup connection to snowflake\n",
    "\n",
    "Apply for a snowflake trial, .....\n",
    "Make a note of the username password and accountname\n",
    "enable Anoconda in the Admin > Billing & Terms section\n",
    "\n",
    "create a python file connection_config.py with the following contents\n",
    "\n",
    "```python\n",
    "connection_parameters = {\n",
    "    \"account\": \"TLAABMO-GU51434\", \n",
    "    \"user\": \"snowflaketrialuser\",\n",
    "    \"password\": \"Yourpassword_123\",\n",
    "    \"warehouse\": \"COMPUTE_WH\",\n",
    "    \"role\": \"accountadmin\",\n",
    "    \"database\": \"SNOWFLAKE_SAMPLE_DATA\",\n",
    "    \"schema\": \"TPCH_SF10\"\n",
    "}\n",
    "```\n"
   ]
  },
  {
   "cell_type": "code",
   "execution_count": 3,
   "id": "da4903af",
   "metadata": {},
   "outputs": [
    {
     "data": {
      "text/plain": [
       "{'account': 'VBKEJIQ-KD94712',\n",
       " 'user': 'snowflaketrialuser',\n",
       " 'password': 'Yourpassword!0',\n",
       " 'warehouse': 'COMPUTE_WH',\n",
       " 'role': 'ACCOUNTADMIN',\n",
       " 'database': 'SNOWFLAKE_SAMPLE_DATA',\n",
       " 'schema': 'TPCH_SF10'}"
      ]
     },
     "execution_count": 3,
     "metadata": {},
     "output_type": "execute_result"
    }
   ],
   "source": [
    "connection_parameters"
   ]
  },
  {
   "cell_type": "code",
   "execution_count": 1,
   "id": "99f942d7-4ba2-45f2-a52e-67f9bc6c0c72",
   "metadata": {},
   "outputs": [],
   "source": [
    "import os\n",
    "from snowflake.snowpark import Session\n",
    "from snowflake.snowpark import functions as F\n",
    "from connection_config import connection_parameters\n",
    "\n",
    "import pandas as pd\n",
    "\n",
    "#### Current Environment Details\n",
    "def current_snowflake_env():\n",
    "    snowflake_environment = session.sql('select current_user(), current_role(), current_database(), current_schema(), current_version(), current_warehouse()').collect()\n",
    "    print('User                     : {}'.format(snowflake_environment[0][0]))\n",
    "    print('Role                     : {}'.format(snowflake_environment[0][1]))\n",
    "    print('Database                 : {}'.format(snowflake_environment[0][2]))\n",
    "    print('Schema                   : {}'.format(snowflake_environment[0][3]))\n",
    "    print('Warehouse                : {}'.format(snowflake_environment[0][5]))\n",
    "    print('Snowflake version        : {}'.format(snowflake_environment[0][4]))\n"
   ]
  },
  {
   "cell_type": "code",
   "execution_count": 2,
   "id": "3fd3ff6e",
   "metadata": {},
   "outputs": [
    {
     "data": {
      "text/plain": [
       "{'account': 'TLAABMO-GU51434',\n",
       " 'user': 'snowflaketrialuser',\n",
       " 'password': 'Yourpassword_123',\n",
       " 'warehouse': 'COMPUTE_WH',\n",
       " 'role': 'accountadmin',\n",
       " 'database': 'SNOWFLAKE_SAMPLE_DATA',\n",
       " 'schema': 'TPCH_SF10'}"
      ]
     },
     "execution_count": 2,
     "metadata": {},
     "output_type": "execute_result"
    }
   ],
   "source": [
    "connection_parameters"
   ]
  },
  {
   "cell_type": "code",
   "execution_count": 3,
   "id": "9c0da403",
   "metadata": {},
   "outputs": [],
   "source": [
    "\n",
    "#### Set up a connection with Snowflake\n",
    "session = Session.builder.configs(connection_parameters).create()\n"
   ]
  },
  {
   "cell_type": "code",
   "execution_count": 4,
   "id": "a33d2935-83a0-4156-b6c4-3348c2d8e797",
   "metadata": {},
   "outputs": [
    {
     "name": "stdout",
     "output_type": "stream",
     "text": [
      "User                     : SNOWFLAKETRIALUSER\n",
      "Role                     : ACCOUNTADMIN\n",
      "Database                 : SNOWFLAKE_SAMPLE_DATA\n",
      "Schema                   : TPCH_SF10\n",
      "Warehouse                : COMPUTE_WH\n",
      "Snowflake version        : 7.34.1\n"
     ]
    }
   ],
   "source": [
    "current_snowflake_env()"
   ]
  },
  {
   "cell_type": "code",
   "execution_count": 5,
   "id": "e323d7c8-98cb-422c-b863-a20125415ce7",
   "metadata": {},
   "outputs": [
    {
     "name": "stderr",
     "output_type": "stream",
     "text": [
      "The version of package xgboost in the local environment is 1.7.6, which does not fit the criteria for the requirement xgboost==1.7.3. Your UDF might not work when the package version is different between the server and your local environment\n"
     ]
    }
   ],
   "source": [
    "session.add_packages(\"snowflake-snowpark-python\", \"pandas\", \"xgboost==1.7.3\")"
   ]
  },
  {
   "attachments": {},
   "cell_type": "markdown",
   "id": "c2a8ce67-1595-403c-a156-4181ae4c0e86",
   "metadata": {},
   "source": [
    "## setup a new database"
   ]
  },
  {
   "cell_type": "code",
   "execution_count": 6,
   "id": "3d6db364-7e27-4e34-bdbc-4314b44196ad",
   "metadata": {},
   "outputs": [
    {
     "data": {
      "text/plain": [
       "[Row(status='Database CARS_DATA successfully created.')]"
      ]
     },
     "execution_count": 6,
     "metadata": {},
     "output_type": "execute_result"
    }
   ],
   "source": [
    "session.sql('CREATE OR REPLACE database cars_data').collect()\n"
   ]
  },
  {
   "cell_type": "code",
   "execution_count": 7,
   "id": "46c91a31-ea7e-4967-9882-6ca4e2c92b9b",
   "metadata": {},
   "outputs": [
    {
     "data": {
      "text/plain": [
       "[Row(status='Statement executed successfully.')]"
      ]
     },
     "execution_count": 7,
     "metadata": {},
     "output_type": "execute_result"
    }
   ],
   "source": [
    "session.sql('USE SCHEMA cars_data.public').collect()"
   ]
  },
  {
   "attachments": {},
   "cell_type": "markdown",
   "id": "e85d4bcf-9425-4c16-994f-66417c87456d",
   "metadata": {},
   "source": [
    "## Get the cars data\n",
    "\n",
    "from different cars sites we scraped cars for sale data, for each car we have...."
   ]
  },
  {
   "cell_type": "code",
   "execution_count": 8,
   "id": "f677f47e-bdc5-4f5b-9555-9e89c125e33e",
   "metadata": {},
   "outputs": [],
   "source": [
    "car_prices = pd.read_csv(\"https://raw.githubusercontent.com/longhowlam/snowpark_cars_model/master/autos_tekoop.zip\", encoding = \"ISO-8859-1\")"
   ]
  },
  {
   "cell_type": "code",
   "execution_count": 12,
   "id": "beaba352",
   "metadata": {},
   "outputs": [],
   "source": [
    "### extract number form vermogen column\n",
    "car_prices['power'] = car_prices['vermogen'].str.extract('(\\d+)')\n",
    "car_prices['motor_inhoud'] = car_prices['motorinhoud'].str.extract('(\\d+)')\n",
    "car_prices['power'] = car_prices['power'].astype(float)\n",
    "car_prices['motor_inhoud'] = car_prices['motor_inhoud'].astype(float)"
   ]
  },
  {
   "cell_type": "code",
   "execution_count": 13,
   "id": "d349c218",
   "metadata": {},
   "outputs": [
    {
     "name": "stdout",
     "output_type": "stream",
     "text": [
      "<class 'pandas.core.frame.DataFrame'>\n",
      "RangeIndex: 231000 entries, 0 to 230999\n",
      "Data columns (total 15 columns):\n",
      " #   Column        Non-Null Count   Dtype  \n",
      "---  ------        --------------   -----  \n",
      " 0   bouwjaar      231000 non-null  int64  \n",
      " 1   km_stand      231000 non-null  int64  \n",
      " 2   brandstof     231000 non-null  object \n",
      " 3   motorinhoud   217481 non-null  object \n",
      " 4   vermogen      225694 non-null  object \n",
      " 5   transmissie   230958 non-null  object \n",
      " 6   type          230469 non-null  object \n",
      " 7   kleur         228431 non-null  object \n",
      " 8   deur          228287 non-null  object \n",
      " 9   prijs         231000 non-null  object \n",
      " 10  merk          230996 non-null  object \n",
      " 11  model         231000 non-null  object \n",
      " 12  vraagprijs    231000 non-null  int64  \n",
      " 13  power         216400 non-null  float64\n",
      " 14  motor_inhoud  215971 non-null  float64\n",
      "dtypes: float64(2), int64(3), object(10)\n",
      "memory usage: 26.4+ MB\n"
     ]
    }
   ],
   "source": [
    "car_prices.info()"
   ]
  },
  {
   "cell_type": "code",
   "execution_count": 14,
   "id": "052ecc5e",
   "metadata": {},
   "outputs": [
    {
     "data": {
      "text/html": [
       "<div>\n",
       "<style scoped>\n",
       "    .dataframe tbody tr th:only-of-type {\n",
       "        vertical-align: middle;\n",
       "    }\n",
       "\n",
       "    .dataframe tbody tr th {\n",
       "        vertical-align: top;\n",
       "    }\n",
       "\n",
       "    .dataframe thead th {\n",
       "        text-align: right;\n",
       "    }\n",
       "</style>\n",
       "<table border=\"1\" class=\"dataframe\">\n",
       "  <thead>\n",
       "    <tr style=\"text-align: right;\">\n",
       "      <th></th>\n",
       "      <th>bouwjaar</th>\n",
       "      <th>km_stand</th>\n",
       "      <th>brandstof</th>\n",
       "      <th>motorinhoud</th>\n",
       "      <th>vermogen</th>\n",
       "      <th>transmissie</th>\n",
       "      <th>type</th>\n",
       "      <th>kleur</th>\n",
       "      <th>deur</th>\n",
       "      <th>prijs</th>\n",
       "      <th>merk</th>\n",
       "      <th>model</th>\n",
       "      <th>vraagprijs</th>\n",
       "      <th>power</th>\n",
       "      <th>motor_inhoud</th>\n",
       "    </tr>\n",
       "  </thead>\n",
       "  <tbody>\n",
       "    <tr>\n",
       "      <th>210338</th>\n",
       "      <td>2005</td>\n",
       "      <td>107980</td>\n",
       "      <td>Benzine</td>\n",
       "      <td>1108cc</td>\n",
       "      <td>40kW</td>\n",
       "      <td>Handgeschakeld</td>\n",
       "      <td>Hatchback</td>\n",
       "      <td>Zwart</td>\n",
       "      <td>5-deurs</td>\n",
       "      <td>â¬ 2.250</td>\n",
       "      <td>Fiat</td>\n",
       "      <td>Panda</td>\n",
       "      <td>2250</td>\n",
       "      <td>40.0</td>\n",
       "      <td>1108.0</td>\n",
       "    </tr>\n",
       "    <tr>\n",
       "      <th>96384</th>\n",
       "      <td>2020</td>\n",
       "      <td>25000</td>\n",
       "      <td>Diesel</td>\n",
       "      <td>1496cc</td>\n",
       "      <td>90kW</td>\n",
       "      <td>Handgeschakeld</td>\n",
       "      <td>Stationwagon</td>\n",
       "      <td>Blauw</td>\n",
       "      <td>5-deurs</td>\n",
       "      <td>â¬ 32.390</td>\n",
       "      <td>Opel</td>\n",
       "      <td>Insignia</td>\n",
       "      <td>32390</td>\n",
       "      <td>90.0</td>\n",
       "      <td>1496.0</td>\n",
       "    </tr>\n",
       "    <tr>\n",
       "      <th>116578</th>\n",
       "      <td>2016</td>\n",
       "      <td>85902</td>\n",
       "      <td>Hybride</td>\n",
       "      <td>1969cc</td>\n",
       "      <td>235kW</td>\n",
       "      <td>Automaat</td>\n",
       "      <td>SUV / Terreinwagen</td>\n",
       "      <td>Grijs</td>\n",
       "      <td>5-deurs</td>\n",
       "      <td>â¬ 53.445</td>\n",
       "      <td>Volvo</td>\n",
       "      <td>XC90</td>\n",
       "      <td>53445</td>\n",
       "      <td>235.0</td>\n",
       "      <td>1969.0</td>\n",
       "    </tr>\n",
       "    <tr>\n",
       "      <th>109071</th>\n",
       "      <td>2022</td>\n",
       "      <td>0</td>\n",
       "      <td>Benzine</td>\n",
       "      <td>999cc</td>\n",
       "      <td>114kW</td>\n",
       "      <td>Handgeschakeld</td>\n",
       "      <td>SUV / Terreinwagen</td>\n",
       "      <td>5-deurs</td>\n",
       "      <td>5-deurs</td>\n",
       "      <td>â¬ 32.885</td>\n",
       "      <td>Ford</td>\n",
       "      <td>Puma</td>\n",
       "      <td>32885</td>\n",
       "      <td>114.0</td>\n",
       "      <td>999.0</td>\n",
       "    </tr>\n",
       "    <tr>\n",
       "      <th>173936</th>\n",
       "      <td>2011</td>\n",
       "      <td>115411</td>\n",
       "      <td>Benzine</td>\n",
       "      <td>1197cc</td>\n",
       "      <td>77kW</td>\n",
       "      <td>Handgeschakeld</td>\n",
       "      <td>Hatchback</td>\n",
       "      <td>Grijs</td>\n",
       "      <td>5-deurs</td>\n",
       "      <td>â¬ 7.997</td>\n",
       "      <td>Volkswagen</td>\n",
       "      <td>Polo</td>\n",
       "      <td>7997</td>\n",
       "      <td>77.0</td>\n",
       "      <td>1197.0</td>\n",
       "    </tr>\n",
       "    <tr>\n",
       "      <th>87038</th>\n",
       "      <td>2021</td>\n",
       "      <td>10</td>\n",
       "      <td>Hybride</td>\n",
       "      <td>1798cc</td>\n",
       "      <td>Automaat</td>\n",
       "      <td>Stationwagon</td>\n",
       "      <td>Blauw</td>\n",
       "      <td>5-deurs</td>\n",
       "      <td>5-deurs</td>\n",
       "      <td>â¬ 32.745</td>\n",
       "      <td>Suzuki</td>\n",
       "      <td>Swace</td>\n",
       "      <td>32745</td>\n",
       "      <td>NaN</td>\n",
       "      <td>1798.0</td>\n",
       "    </tr>\n",
       "    <tr>\n",
       "      <th>106357</th>\n",
       "      <td>2019</td>\n",
       "      <td>13303</td>\n",
       "      <td>Benzine</td>\n",
       "      <td>1498cc</td>\n",
       "      <td>109kW</td>\n",
       "      <td>Automaat</td>\n",
       "      <td>SUV / Terreinwagen</td>\n",
       "      <td>Wit</td>\n",
       "      <td>5-deurs</td>\n",
       "      <td>â¬ 29.875</td>\n",
       "      <td>Volkswagen</td>\n",
       "      <td>T-Roc</td>\n",
       "      <td>29875</td>\n",
       "      <td>109.0</td>\n",
       "      <td>1498.0</td>\n",
       "    </tr>\n",
       "  </tbody>\n",
       "</table>\n",
       "</div>"
      ],
      "text/plain": [
       "        bouwjaar  km_stand brandstof motorinhoud   vermogen     transmissie  \\\n",
       "210338      2005    107980   Benzine      1108cc       40kW  Handgeschakeld   \n",
       "96384       2020     25000    Diesel      1496cc       90kW  Handgeschakeld   \n",
       "116578      2016     85902   Hybride      1969cc      235kW        Automaat   \n",
       "109071      2022         0   Benzine       999cc      114kW  Handgeschakeld   \n",
       "173936      2011    115411   Benzine      1197cc       77kW  Handgeschakeld   \n",
       "87038       2021        10   Hybride      1798cc   Automaat    Stationwagon   \n",
       "106357      2019     13303   Benzine      1498cc      109kW        Automaat   \n",
       "\n",
       "                       type     kleur      deur       prijs        merk  \\\n",
       "210338            Hatchback     Zwart   5-deurs   â¬ 2.250        Fiat   \n",
       "96384          Stationwagon     Blauw   5-deurs  â¬ 32.390        Opel   \n",
       "116578   SUV / Terreinwagen     Grijs   5-deurs  â¬ 53.445       Volvo   \n",
       "109071   SUV / Terreinwagen   5-deurs   5-deurs  â¬ 32.885        Ford   \n",
       "173936            Hatchback     Grijs   5-deurs   â¬ 7.997  Volkswagen   \n",
       "87038                 Blauw   5-deurs   5-deurs  â¬ 32.745      Suzuki   \n",
       "106357   SUV / Terreinwagen       Wit   5-deurs  â¬ 29.875  Volkswagen   \n",
       "\n",
       "           model  vraagprijs  power  motor_inhoud  \n",
       "210338     Panda        2250   40.0        1108.0  \n",
       "96384   Insignia       32390   90.0        1496.0  \n",
       "116578      XC90       53445  235.0        1969.0  \n",
       "109071      Puma       32885  114.0         999.0  \n",
       "173936      Polo        7997   77.0        1197.0  \n",
       "87038      Swace       32745    NaN        1798.0  \n",
       "106357     T-Roc       29875  109.0        1498.0  "
      ]
     },
     "metadata": {},
     "output_type": "display_data"
    }
   ],
   "source": [
    "display(car_prices.sample(7))"
   ]
  },
  {
   "attachments": {},
   "cell_type": "markdown",
   "id": "29b9dab2-62c5-4b85-b0fc-2058e8e45f53",
   "metadata": {},
   "source": [
    "## create a snowflake table"
   ]
  },
  {
   "cell_type": "code",
   "execution_count": 15,
   "id": "8fe71a36-6624-40c6-a8bf-71bb0b2c3a61",
   "metadata": {},
   "outputs": [
    {
     "data": {
      "text/plain": [
       "<snowflake.snowpark.table.Table at 0x24765d97b50>"
      ]
     },
     "execution_count": 15,
     "metadata": {},
     "output_type": "execute_result"
    }
   ],
   "source": [
    "## quote_identifiers set to False, \n",
    "## identifiers are passed on to Snowflake without quoting, i.e. identifiers will be coerced to uppercase by Snowflake.\n",
    "\n",
    "session.write_pandas(car_prices, \"CAR_PRICES\", auto_create_table = True, quote_identifiers = False, overwrite = True)"
   ]
  },
  {
   "attachments": {},
   "cell_type": "markdown",
   "id": "2314197e-abed-4c29-b0b2-1ecae3e97588",
   "metadata": {},
   "source": [
    "## prepare data using snowpark\n",
    "Now that we have a table in snowflake we are not using pandas to do data manipulation, but using snbowpark instead"
   ]
  },
  {
   "cell_type": "code",
   "execution_count": 16,
   "id": "1ed9513c-caf2-4320-ad30-eab71f6e7e11",
   "metadata": {},
   "outputs": [],
   "source": [
    "cars_sf = session.table('CARS_DATA.PUBLIC.CAR_PRICES')"
   ]
  },
  {
   "cell_type": "code",
   "execution_count": 17,
   "id": "93bdb18c-cee5-4d2e-bf95-dfad9a230e28",
   "metadata": {},
   "outputs": [
    {
     "name": "stdout",
     "output_type": "stream",
     "text": [
      "---------------------------------------------------------------------------------------------------------------------------------------------------------------------------------------------------------------\n",
      "|\"BOUWJAAR\"  |\"KM_STAND\"  |\"BRANDSTOF\"  |\"MOTORINHOUD\"  |\"VERMOGEN\"  |\"TRANSMISSIE\"  |\"TYPE\"               |\"KLEUR\"  |\"DEUR\"    |\"PRIJS\"     |\"MERK\"      |\"MODEL\"  |\"VRAAGPRIJS\"  |\"POWER\"  |\"MOTOR_INHOUD\"  |\n",
      "---------------------------------------------------------------------------------------------------------------------------------------------------------------------------------------------------------------\n",
      "|2018        |54700       |Elektrisch   |NULL           | 245kW      |Automaat       |Hatchback            | Rood    | 5-deurs  |â¬ 54.999  |Tesla       |Model    |54999         |245.0    |NULL            |\n",
      "|2017        |56266       |Elektrisch   |NULL           |NULL        |Automaat       | Hatchback           |Wit      | 5-deurs  |â¬ 22.949  |Volkswagen  |e-Golf   |22949         |NULL     |NULL            |\n",
      "|2021        |1498        |Elektrisch   |NULL           |NULL        |Automaat       | SUV / Terreinwagen  |Groen    | 5-deurs  |â¬ 38.745  |Opel        |Mokka    |38745         |NULL     |NULL            |\n",
      "|2019        |26805       |Elektrisch   |NULL           | 150kW      |Automaat       |SUV / Terreinwagen   | Wit     | 5-deurs  |â¬ 37.900  |Hyundai     |Kona     |37900         |150.0    |NULL            |\n",
      "|2020        |2785        |Elektrisch   |NULL           | 100kW      |Automaat       |Hatchback            | Grijs   | 5-deurs  |â¬ 20.495  |Renault     |Zoe      |20495         |100.0    |NULL            |\n",
      "|2014        |143631      |Elektrisch   |NULL           | 270kW      |Automaat       |Hatchback            | Grijs   | 5-deurs  |â¬ 40.950  |Tesla       |Model    |40950         |270.0    |NULL            |\n",
      "|2014        |77332       |Elektrisch   |NULL           |NULL        |Automaat       | Hatchback           |Grijs    | 3-deurs  |â¬ 13.950  |Fiat        |500e     |13950         |NULL     |NULL            |\n",
      "|2021        |6500        |Elektrisch   |NULL           |NULL        |Automaat       | Hatchback           |Zwart    | 3-deurs  |â¬ 43.650  |MINI        |Mini     |43650         |NULL     |NULL            |\n",
      "|2017        |86952       |Elektrisch   |NULL           |NULL        |Automaat       | Hatchback           |Grijs    | 5-deurs  |â¬ 20.930  |Hyundai     |Ioniq    |20930         |NULL     |NULL            |\n",
      "|2021        |2500        |Elektrisch   |NULL           | 87kW       |Automaat       |Hatchback            | Rood    | 3-deurs  |â¬ 29.950  |Fiat        |500e     |29950         |87.0     |NULL            |\n",
      "---------------------------------------------------------------------------------------------------------------------------------------------------------------------------------------------------------------\n",
      "\n"
     ]
    }
   ],
   "source": [
    "cars_sf.show()"
   ]
  },
  {
   "attachments": {},
   "cell_type": "markdown",
   "id": "00c72ba2-39e2-435b-8cab-bafe4eda696e",
   "metadata": {},
   "source": [
    "### create new column age from bouwjaar"
   ]
  },
  {
   "cell_type": "code",
   "execution_count": 18,
   "id": "2fb9301f-b740-4547-9845-e50b34d5f5e5",
   "metadata": {},
   "outputs": [],
   "source": [
    "cars_sf = (\n",
    "    cars_sf\n",
    "    .with_column('age' , 2023 - cars_sf['BOUWJAAR'])\n",
    "    .with_column('N_doors', cars_sf[\"DEUR\"].substring(1,2))\n",
    ")"
   ]
  },
  {
   "cell_type": "code",
   "execution_count": 19,
   "id": "8f56e078-2628-4396-b3ad-c391b31b656e",
   "metadata": {},
   "outputs": [
    {
     "name": "stdout",
     "output_type": "stream",
     "text": [
      "------------------------------------------------------------------------------------------------------------------------------------------------------------------------------------------------------------------------------------\n",
      "|\"BOUWJAAR\"  |\"KM_STAND\"  |\"BRANDSTOF\"  |\"MOTORINHOUD\"  |\"VERMOGEN\"  |\"TRANSMISSIE\"   |\"TYPE\"               |\"KLEUR\"  |\"DEUR\"    |\"PRIJS\"      |\"MERK\"    |\"MODEL\"   |\"VRAAGPRIJS\"  |\"POWER\"  |\"MOTOR_INHOUD\"  |\"AGE\"  |\"N_DOORS\"  |\n",
      "------------------------------------------------------------------------------------------------------------------------------------------------------------------------------------------------------------------------------------\n",
      "|2021        |10          |Hybride      | 1998cc        | 150kW      |Automaat        | Stationwagon        | Zwart   | 5-deurs  |â¬ 71.997   |BMW       |5-serie   |71997         |150.0    |1998.0          |2      | 5         |\n",
      "|2022        |5           |Benzine      | 1496cc        | 88kW       |Handgeschakeld  | SUV / Terreinwagen  | Zwart   | 5-deurs  |â¬ 36.095   |Ford      |Kuga      |36095         |88.0     |1496.0          |1      | 5         |\n",
      "|2002        |196930      |Benzine      | 1199cc        | 55kW       |Handgeschakeld  | Hatchback           | Grijs   | 5-deurs  |â¬ 1.295    |Opel      |Corsa     |1295          |55.0     |1199.0          |21     | 5         |\n",
      "|2014        |84581       |Benzine      | 3604cc        | 210kW      |Automaat        | Sedan               | Grijs   | 4-deurs  |â¬ 25.950   |Lancia    |Thema     |25950         |210.0    |3604.0          |9      | 4         |\n",
      "|2016        |39386       |Benzine      | 1591cc        | 130kW      |Automaat        | SUV / Terreinwagen  | Bruin   | 5-deurs  |â¬ 23.940   |Kia       |Sportage  |23940         |130.0    |1591.0          |7      | 5         |\n",
      "|2018        |187621      |Diesel       | 1995cc        | 96kW       |Handgeschakeld  | Bedrijfswagens      | Wit     | 5-deurs  |â¬ 16.950   |Ford      |Transit   |16950         |96.0     |1995.0          |5      | 5         |\n",
      "|2006        |194350      |Benzine      | 1598cc        | 82kW       |Automaat        | MPV                 | Grijs   | 5-deurs  |â¬ 2.895    |Renault   |ScÃ©nic   |2895          |82.0     |1598.0          |17     | 5         |\n",
      "|2002        |290511      |Benzine      | 1749cc        | 85kW       |Handgeschakeld  | MPV                 | Grijs   | 4-deurs  |â¬ 749      |CitroÃ«n  |Xsara     |749           |85.0     |1749.0          |21     | 4         |\n",
      "|2022        |1500        |Hybride      | 1997cc        | 297kW      |Automaat        | SUV / Terreinwagen  | Zwart   | 5-deurs  |â¬ 149.900  |Land      |Rover     |149900        |297.0    |1997.0          |1      | 5         |\n",
      "|2022        |22          |Hybride      | 2488cc        | 140kW      |Automaat        | SUV / Terreinwagen  | Grijs   | 5-deurs  |â¬ 52.900   |Ford      |Kuga      |52900         |140.0    |2488.0          |1      | 5         |\n",
      "------------------------------------------------------------------------------------------------------------------------------------------------------------------------------------------------------------------------------------\n",
      "\n"
     ]
    }
   ],
   "source": [
    "cars_sf.sample(n=10).show()"
   ]
  },
  {
   "cell_type": "code",
   "execution_count": 20,
   "id": "a65af44d",
   "metadata": {},
   "outputs": [
    {
     "data": {
      "text/plain": [
       "231000"
      ]
     },
     "execution_count": 20,
     "metadata": {},
     "output_type": "execute_result"
    }
   ],
   "source": [
    "cars_sf.count()"
   ]
  },
  {
   "attachments": {},
   "cell_type": "markdown",
   "id": "23f4dda4-3a0a-4663-8094-1e92fa255dc2",
   "metadata": {},
   "source": [
    "### remove outliers"
   ]
  },
  {
   "cell_type": "code",
   "execution_count": 25,
   "id": "986c41a5",
   "metadata": {},
   "outputs": [],
   "source": [
    "cars_clean = (\n",
    "    cars_sf\n",
    "    .filter(F.col(\"KM_STAND\") <= 500000)\n",
    "    .filter(F.col(\"AGE\") <= 20 )\n",
    "    .filter(F.col(\"TRANSMISSIE\").in_(F.lit(\"Handgeschakeld\"), F.lit(\"Automaat\")) )\n",
    "    .filter(F.col(\"VRAAGPRIJS\") <= 100000)\n",
    "    .filter(F.col(\"BRANDSTOF\").in_(F.lit(\"Benzine\"), F.lit(\"Diesel\")) )\n",
    ")"
   ]
  },
  {
   "cell_type": "code",
   "execution_count": 27,
   "id": "ee6f297a",
   "metadata": {},
   "outputs": [],
   "source": [
    "## drop the columns that we don't need\n",
    "cars_clean = cars_clean.drop([\"PRIJS\",\"MOTORINHOUD\", \"VERMOGEN\"] )"
   ]
  },
  {
   "cell_type": "code",
   "execution_count": 28,
   "id": "06dc68d9",
   "metadata": {},
   "outputs": [
    {
     "name": "stdout",
     "output_type": "stream",
     "text": [
      "-------------------------------------------------------------------------------------------------------------------------------------------------------------------------------------------\n",
      "|\"BOUWJAAR\"  |\"KM_STAND\"  |\"BRANDSTOF\"  |\"TRANSMISSIE\"   |\"TYPE\"               |\"KLEUR\"  |\"DEUR\"    |\"MERK\"      |\"MODEL\"   |\"VRAAGPRIJS\"  |\"POWER\"  |\"MOTOR_INHOUD\"  |\"AGE\"  |\"N_DOORS\"  |\n",
      "-------------------------------------------------------------------------------------------------------------------------------------------------------------------------------------------\n",
      "|2020        |7281        |Benzine      |Automaat        | SUV / Terreinwagen  | Rood    | 5-deurs  |CitroÃ«n    |C3        |26950         |96.0     |1199.0          |3      | 5         |\n",
      "|2015        |26120       |Benzine      |Handgeschakeld  | Hatchback           | Wit     | 3-deurs  |Fiat        |500       |9750          |51.0     |1242.0          |8      | 3         |\n",
      "|2018        |44398       |Benzine      |Handgeschakeld  | SUV / Terreinwagen  | Grijs   | 5-deurs  |Ford        |EcoSport  |15750         |73.0     |998.0           |5      | 5         |\n",
      "|2014        |75633       |Benzine      |Automaat        | MPV                 | Blauw   | 5-deurs  |Volkswagen  |Golf      |15199         |81.0     |1197.0          |9      | 5         |\n",
      "|2017        |87990       |Benzine      |Handgeschakeld  | Hatchback           | Oranje  | 5-deurs  |Ford        |Fiesta    |13445         |74.0     |998.0           |6      | 5         |\n",
      "|2017        |24351       |Benzine      |Handgeschakeld  | SUV / Terreinwagen  | Oranje  | 5-deurs  |CitroÃ«n    |C3        |16550         |82.0     |1199.0          |6      | 5         |\n",
      "|2015        |78722       |Benzine      |Handgeschakeld  | SUV / Terreinwagen  | Blauw   | 5-deurs  |Dacia       |Duster    |11491         |92.0     |1197.0          |8      | 5         |\n",
      "|2014        |112478      |Benzine      |Handgeschakeld  | Stationwagon        | Grijs   | 5-deurs  |Peugeot     |308       |12495         |96.0     |1199.0          |9      | 5         |\n",
      "|2019        |53557       |Diesel       |Handgeschakeld  | Bedrijfswagens      | Wit     | 6-deurs  |Volkswagen  |Crafter   |29945         |130.0    |1968.0          |4      | 6         |\n",
      "|2020        |11507       |Benzine      |Handgeschakeld  | Hatchback           | Grijs   | 5-deurs  |Kia         |Picanto   |13900         |49.0     |998.0           |3      | 5         |\n",
      "-------------------------------------------------------------------------------------------------------------------------------------------------------------------------------------------\n",
      "\n"
     ]
    }
   ],
   "source": [
    "cars_clean.show()"
   ]
  },
  {
   "attachments": {},
   "cell_type": "markdown",
   "id": "ccd4f3a1-6aeb-4ef5-bdbd-d9cf7c72c3ed",
   "metadata": {},
   "source": [
    "### save the data into a snowflake table"
   ]
  },
  {
   "cell_type": "code",
   "execution_count": 29,
   "id": "a63f298d-5107-414f-b202-09ea9d9e919a",
   "metadata": {},
   "outputs": [
    {
     "data": {
      "text/plain": [
       "179490"
      ]
     },
     "execution_count": 29,
     "metadata": {},
     "output_type": "execute_result"
    }
   ],
   "source": [
    "cars_clean.count()"
   ]
  },
  {
   "cell_type": "code",
   "execution_count": 30,
   "id": "a7aa38b3",
   "metadata": {},
   "outputs": [],
   "source": [
    "cars_clean.write.mode(\"overwrite\").save_as_table(\"CARS_DATA.PUBLIC.CARS_CLEAN\")"
   ]
  },
  {
   "attachments": {},
   "cell_type": "markdown",
   "id": "4363d26e-d3ea-46cf-a7b0-563809ead3d2",
   "metadata": {},
   "source": [
    "## Gracefully close snowflake session"
   ]
  },
  {
   "cell_type": "code",
   "execution_count": 31,
   "id": "df82e497-730d-47f1-95ce-ebffa495e8c3",
   "metadata": {},
   "outputs": [],
   "source": [
    "session.close()"
   ]
  },
  {
   "cell_type": "code",
   "execution_count": null,
   "id": "37658fbe-d857-44f8-b6b5-b4e8ac26542b",
   "metadata": {},
   "outputs": [],
   "source": []
  }
 ],
 "metadata": {
  "kernelspec": {
   "display_name": "snowpark",
   "language": "python",
   "name": "python3"
  },
  "language_info": {
   "codemirror_mode": {
    "name": "ipython",
    "version": 3
   },
   "file_extension": ".py",
   "mimetype": "text/x-python",
   "name": "python",
   "nbconvert_exporter": "python",
   "pygments_lexer": "ipython3",
   "version": "3.9.16"
  }
 },
 "nbformat": 4,
 "nbformat_minor": 5
}
