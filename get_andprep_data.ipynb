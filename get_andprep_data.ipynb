{
 "cells": [
  {
   "cell_type": "markdown",
   "id": "7088a527-f2fd-40a8-b698-b45bcaaaa5b8",
   "metadata": {},
   "source": [
    "# Car price modeling with snowpark"
   ]
  },
  {
   "cell_type": "markdown",
   "id": "277825ae-b941-42b6-91fb-ff335dbeb6c0",
   "metadata": {},
   "source": [
    "## setup your local python development environment for snowpark\n",
    "\n",
    "\n",
    "https://docs.snowflake.com/en/developer-guide/snowpark/python/setup\n",
    "\n",
    "## setup connection to snowflake\n",
    "\n",
    "Apply for a snowflake trial, .....\n",
    "Make a note of the username password and accountname\n",
    "enable Anoconda in the Admin > Billing & Terms section\n",
    "\n",
    "create a python file connection_config.py with the following contents\n",
    "\n",
    "```python\n",
    "connection_parameters = {\n",
    "    \"account\": \"JTJLRSJ-MR87367\", \n",
    "    \"user\": \"snowflaketrialuser\",\n",
    "    \"password\": \"yourpassword\",\n",
    "    \"warehouse\": \"COMPUTE_WH\",\n",
    "    \"role\": \"accountadmin\",\n",
    "    \"database\": \"SNOWFLAKE_SAMPLE_DATA\",\n",
    "    \"schema\": \"TPCH_SF10\"\n",
    "}\n",
    "```\n"
   ]
  },
  {
   "cell_type": "code",
   "execution_count": 1,
   "id": "99f942d7-4ba2-45f2-a52e-67f9bc6c0c72",
   "metadata": {},
   "outputs": [],
   "source": [
    "import os\n",
    "from snowflake.snowpark import Session\n",
    "from snowflake.snowpark import functions as F\n",
    "from connection_config import connection_parameters\n",
    "\n",
    "import pandas as pd\n",
    "\n",
    "#### Current Environment Details\n",
    "def current_snowflake_env():\n",
    "    snowflake_environment = session.sql('select current_user(), current_role(), current_database(), current_schema(), current_version(), current_warehouse()').collect()\n",
    "    print('User                     : {}'.format(snowflake_environment[0][0]))\n",
    "    print('Role                     : {}'.format(snowflake_environment[0][1]))\n",
    "    print('Database                 : {}'.format(snowflake_environment[0][2]))\n",
    "    print('Schema                   : {}'.format(snowflake_environment[0][3]))\n",
    "    print('Warehouse                : {}'.format(snowflake_environment[0][5]))\n",
    "    print('Snowflake version        : {}'.format(snowflake_environment[0][4]))\n",
    "\n",
    "#### Set up a connection with Snowflake\n",
    "session = Session.builder.configs(connection_parameters).create()\n"
   ]
  },
  {
   "cell_type": "code",
   "execution_count": 2,
   "id": "a33d2935-83a0-4156-b6c4-3348c2d8e797",
   "metadata": {},
   "outputs": [
    {
     "name": "stdout",
     "output_type": "stream",
     "text": [
      "User                     : SNOWFLAKETRIALUSER\n",
      "Role                     : ACCOUNTADMIN\n",
      "Database                 : SNOWFLAKE_SAMPLE_DATA\n",
      "Schema                   : TPCH_SF10\n",
      "Warehouse                : COMPUTE_WH\n",
      "Snowflake version        : 7.14.0\n"
     ]
    }
   ],
   "source": [
    "current_snowflake_env()"
   ]
  },
  {
   "cell_type": "code",
   "execution_count": 3,
   "id": "e323d7c8-98cb-422c-b863-a20125415ce7",
   "metadata": {},
   "outputs": [
    {
     "name": "stderr",
     "output_type": "stream",
     "text": [
      "The version of package xgboost in the local environment is 1.7.4, which does not fit the criteria for the requirement xgboost==1.7.3. Your UDF might not work when the package version is different between the server and your local environment\n"
     ]
    }
   ],
   "source": [
    "session.add_packages(\"snowflake-snowpark-python\", \"pandas\", \"xgboost==1.7.3\")"
   ]
  },
  {
   "cell_type": "markdown",
   "id": "c2a8ce67-1595-403c-a156-4181ae4c0e86",
   "metadata": {},
   "source": [
    "## setup a new database"
   ]
  },
  {
   "cell_type": "code",
   "execution_count": 4,
   "id": "3d6db364-7e27-4e34-bdbc-4314b44196ad",
   "metadata": {},
   "outputs": [
    {
     "data": {
      "text/plain": [
       "[Row(status='Database CARS_DATA successfully created.')]"
      ]
     },
     "execution_count": 4,
     "metadata": {},
     "output_type": "execute_result"
    }
   ],
   "source": [
    "session.sql('CREATE OR REPLACE database cars_data').collect()\n"
   ]
  },
  {
   "cell_type": "code",
   "execution_count": 5,
   "id": "46c91a31-ea7e-4967-9882-6ca4e2c92b9b",
   "metadata": {},
   "outputs": [
    {
     "data": {
      "text/plain": [
       "[Row(status='Statement executed successfully.')]"
      ]
     },
     "execution_count": 5,
     "metadata": {},
     "output_type": "execute_result"
    }
   ],
   "source": [
    "session.sql('USE SCHEMA cars_data.public').collect()"
   ]
  },
  {
   "cell_type": "markdown",
   "id": "e85d4bcf-9425-4c16-994f-66417c87456d",
   "metadata": {},
   "source": [
    "## Get the cars data\n",
    "\n",
    "from different cars sites we scraped cars for sale data, for each car we have...."
   ]
  },
  {
   "cell_type": "code",
   "execution_count": 6,
   "id": "f677f47e-bdc5-4f5b-9555-9e89c125e33e",
   "metadata": {},
   "outputs": [],
   "source": [
    "car_prices = pd.read_csv(\"https://raw.githubusercontent.com/longhowlam/snowpark_cars_model/master/autos_tekoop.zip\", encoding = \"ISO-8859-1\")"
   ]
  },
  {
   "cell_type": "code",
   "execution_count": 24,
   "id": "beaba352",
   "metadata": {},
   "outputs": [],
   "source": [
    "### extract number form vermogen column\n",
    "car_prices['power'] = car_prices['vermogen'].str.extract('(\\d+)')"
   ]
  },
  {
   "cell_type": "code",
   "execution_count": 25,
   "id": "052ecc5e",
   "metadata": {},
   "outputs": [
    {
     "data": {
      "text/html": [
       "<div>\n",
       "<style scoped>\n",
       "    .dataframe tbody tr th:only-of-type {\n",
       "        vertical-align: middle;\n",
       "    }\n",
       "\n",
       "    .dataframe tbody tr th {\n",
       "        vertical-align: top;\n",
       "    }\n",
       "\n",
       "    .dataframe thead th {\n",
       "        text-align: right;\n",
       "    }\n",
       "</style>\n",
       "<table border=\"1\" class=\"dataframe\">\n",
       "  <thead>\n",
       "    <tr style=\"text-align: right;\">\n",
       "      <th></th>\n",
       "      <th>bouwjaar</th>\n",
       "      <th>km_stand</th>\n",
       "      <th>brandstof</th>\n",
       "      <th>motorinhoud</th>\n",
       "      <th>vermogen</th>\n",
       "      <th>transmissie</th>\n",
       "      <th>type</th>\n",
       "      <th>kleur</th>\n",
       "      <th>deur</th>\n",
       "      <th>prijs</th>\n",
       "      <th>merk</th>\n",
       "      <th>model</th>\n",
       "      <th>vraagprijs</th>\n",
       "      <th>power</th>\n",
       "    </tr>\n",
       "  </thead>\n",
       "  <tbody>\n",
       "    <tr>\n",
       "      <th>3397</th>\n",
       "      <td>2022</td>\n",
       "      <td>1</td>\n",
       "      <td>Elektrisch</td>\n",
       "      <td>NaN</td>\n",
       "      <td>NaN</td>\n",
       "      <td>Automaat</td>\n",
       "      <td>Hatchback</td>\n",
       "      <td>Zwart</td>\n",
       "      <td>5-deurs</td>\n",
       "      <td>â¬ 41.665</td>\n",
       "      <td>Volkswagen</td>\n",
       "      <td>ID.3</td>\n",
       "      <td>41665</td>\n",
       "      <td>NaN</td>\n",
       "    </tr>\n",
       "    <tr>\n",
       "      <th>12061</th>\n",
       "      <td>2016</td>\n",
       "      <td>124097</td>\n",
       "      <td>Elektrisch</td>\n",
       "      <td>NaN</td>\n",
       "      <td>314kW</td>\n",
       "      <td>Automaat</td>\n",
       "      <td>SUV / Terreinwagen</td>\n",
       "      <td>Zwart</td>\n",
       "      <td>5-deurs</td>\n",
       "      <td>â¬ 53.950</td>\n",
       "      <td>Tesla</td>\n",
       "      <td>Model</td>\n",
       "      <td>53950</td>\n",
       "      <td>314</td>\n",
       "    </tr>\n",
       "    <tr>\n",
       "      <th>47411</th>\n",
       "      <td>2015</td>\n",
       "      <td>70259</td>\n",
       "      <td>Benzine</td>\n",
       "      <td>998cc</td>\n",
       "      <td>60kW</td>\n",
       "      <td>Handgeschakeld</td>\n",
       "      <td>Hatchback</td>\n",
       "      <td>Grijs</td>\n",
       "      <td>5-deurs</td>\n",
       "      <td>â¬ 8.825</td>\n",
       "      <td>Ford</td>\n",
       "      <td>Fiesta</td>\n",
       "      <td>8825</td>\n",
       "      <td>60</td>\n",
       "    </tr>\n",
       "    <tr>\n",
       "      <th>179647</th>\n",
       "      <td>2020</td>\n",
       "      <td>10350</td>\n",
       "      <td>Benzine</td>\n",
       "      <td>1998cc</td>\n",
       "      <td>146kW</td>\n",
       "      <td>Automaat</td>\n",
       "      <td>Cabriolet</td>\n",
       "      <td>Grijs</td>\n",
       "      <td>2-deurs</td>\n",
       "      <td>â¬ 52.950</td>\n",
       "      <td>BMW</td>\n",
       "      <td>Z4</td>\n",
       "      <td>52950</td>\n",
       "      <td>146</td>\n",
       "    </tr>\n",
       "    <tr>\n",
       "      <th>208413</th>\n",
       "      <td>2007</td>\n",
       "      <td>320055</td>\n",
       "      <td>Diesel</td>\n",
       "      <td>1422cc</td>\n",
       "      <td>51kW</td>\n",
       "      <td>Handgeschakeld</td>\n",
       "      <td>Stationwagon</td>\n",
       "      <td>Blauw</td>\n",
       "      <td>5-deurs</td>\n",
       "      <td>â¬ 1.499</td>\n",
       "      <td>Skoda</td>\n",
       "      <td>Fabia</td>\n",
       "      <td>1499</td>\n",
       "      <td>51</td>\n",
       "    </tr>\n",
       "    <tr>\n",
       "      <th>143623</th>\n",
       "      <td>2016</td>\n",
       "      <td>148912</td>\n",
       "      <td>Hybride</td>\n",
       "      <td>1395cc</td>\n",
       "      <td>115kW</td>\n",
       "      <td>Automaat</td>\n",
       "      <td>Stationwagon</td>\n",
       "      <td>Grijs</td>\n",
       "      <td>5-deurs</td>\n",
       "      <td>â¬ 24.185</td>\n",
       "      <td>Volkswagen</td>\n",
       "      <td>Passat</td>\n",
       "      <td>24185</td>\n",
       "      <td>115</td>\n",
       "    </tr>\n",
       "    <tr>\n",
       "      <th>2624</th>\n",
       "      <td>2018</td>\n",
       "      <td>56052</td>\n",
       "      <td>Elektrisch</td>\n",
       "      <td>NaN</td>\n",
       "      <td>NaN</td>\n",
       "      <td>Automaat</td>\n",
       "      <td>SUV / Terreinwagen</td>\n",
       "      <td>Rood</td>\n",
       "      <td>5-deurs</td>\n",
       "      <td>â¬ 69.800</td>\n",
       "      <td>Jaguar</td>\n",
       "      <td>I-Pace</td>\n",
       "      <td>69800</td>\n",
       "      <td>NaN</td>\n",
       "    </tr>\n",
       "  </tbody>\n",
       "</table>\n",
       "</div>"
      ],
      "text/plain": [
       "        bouwjaar  km_stand   brandstof motorinhoud vermogen     transmissie  \\\n",
       "3397        2022         1  Elektrisch         NaN      NaN        Automaat   \n",
       "12061       2016    124097  Elektrisch         NaN    314kW        Automaat   \n",
       "47411       2015     70259     Benzine       998cc     60kW  Handgeschakeld   \n",
       "179647      2020     10350     Benzine      1998cc    146kW        Automaat   \n",
       "208413      2007    320055      Diesel      1422cc     51kW  Handgeschakeld   \n",
       "143623      2016    148912     Hybride      1395cc    115kW        Automaat   \n",
       "2624        2018     56052  Elektrisch         NaN      NaN        Automaat   \n",
       "\n",
       "                       type   kleur      deur       prijs        merk   model  \\\n",
       "3397              Hatchback   Zwart   5-deurs  â¬ 41.665  Volkswagen    ID.3   \n",
       "12061    SUV / Terreinwagen   Zwart   5-deurs  â¬ 53.950       Tesla   Model   \n",
       "47411             Hatchback   Grijs   5-deurs   â¬ 8.825        Ford  Fiesta   \n",
       "179647            Cabriolet   Grijs   2-deurs  â¬ 52.950         BMW      Z4   \n",
       "208413         Stationwagon   Blauw   5-deurs   â¬ 1.499       Skoda   Fabia   \n",
       "143623         Stationwagon   Grijs   5-deurs  â¬ 24.185  Volkswagen  Passat   \n",
       "2624     SUV / Terreinwagen    Rood   5-deurs  â¬ 69.800      Jaguar  I-Pace   \n",
       "\n",
       "        vraagprijs power  \n",
       "3397         41665   NaN  \n",
       "12061        53950   314  \n",
       "47411         8825    60  \n",
       "179647       52950   146  \n",
       "208413        1499    51  \n",
       "143623       24185   115  \n",
       "2624         69800   NaN  "
      ]
     },
     "metadata": {},
     "output_type": "display_data"
    }
   ],
   "source": [
    "display(car_prices.sample(7))"
   ]
  },
  {
   "cell_type": "markdown",
   "id": "29b9dab2-62c5-4b85-b0fc-2058e8e45f53",
   "metadata": {},
   "source": [
    "## create a snowflake table"
   ]
  },
  {
   "cell_type": "code",
   "execution_count": 26,
   "id": "8fe71a36-6624-40c6-a8bf-71bb0b2c3a61",
   "metadata": {},
   "outputs": [
    {
     "data": {
      "text/plain": [
       "<snowflake.snowpark.table.Table at 0x18696ec7d90>"
      ]
     },
     "execution_count": 26,
     "metadata": {},
     "output_type": "execute_result"
    }
   ],
   "source": [
    "## quote_identifiers set to False, \n",
    "## identifiers are passed on to Snowflake without quoting, i.e. identifiers will be coerced to uppercase by Snowflake.\n",
    "\n",
    "session.write_pandas(car_prices, \"CAR_PRICES\", auto_create_table = True, quote_identifiers = False, overwrite = True)"
   ]
  },
  {
   "cell_type": "markdown",
   "id": "2314197e-abed-4c29-b0b2-1ecae3e97588",
   "metadata": {},
   "source": [
    "## prepare data using snowpark\n",
    "Now that we have a table in snowflake we are not using pandas to do data manipulation, but using snbowpark instead"
   ]
  },
  {
   "cell_type": "code",
   "execution_count": 27,
   "id": "1ed9513c-caf2-4320-ad30-eab71f6e7e11",
   "metadata": {},
   "outputs": [],
   "source": [
    "cars_sf = session.table('CARS_DATA.PUBLIC.CAR_PRICES')"
   ]
  },
  {
   "cell_type": "code",
   "execution_count": 28,
   "id": "93bdb18c-cee5-4d2e-bf95-dfad9a230e28",
   "metadata": {},
   "outputs": [
    {
     "name": "stdout",
     "output_type": "stream",
     "text": [
      "----------------------------------------------------------------------------------------------------------------------------------------------------------------------------------------------\n",
      "|\"BOUWJAAR\"  |\"KM_STAND\"  |\"BRANDSTOF\"  |\"MOTORINHOUD\"  |\"VERMOGEN\"  |\"TRANSMISSIE\"  |\"TYPE\"               |\"KLEUR\"  |\"DEUR\"    |\"PRIJS\"     |\"MERK\"      |\"MODEL\"  |\"VRAAGPRIJS\"  |\"POWER\"  |\n",
      "----------------------------------------------------------------------------------------------------------------------------------------------------------------------------------------------\n",
      "|2018        |54700       |Elektrisch   |NULL           | 245kW      |Automaat       |Hatchback            | Rood    | 5-deurs  |â¬ 54.999  |Tesla       |Model    |54999         |245      |\n",
      "|2017        |56266       |Elektrisch   |NULL           |NULL        |Automaat       | Hatchback           |Wit      | 5-deurs  |â¬ 22.949  |Volkswagen  |e-Golf   |22949         |NULL     |\n",
      "|2021        |1498        |Elektrisch   |NULL           |NULL        |Automaat       | SUV / Terreinwagen  |Groen    | 5-deurs  |â¬ 38.745  |Opel        |Mokka    |38745         |NULL     |\n",
      "|2019        |26805       |Elektrisch   |NULL           | 150kW      |Automaat       |SUV / Terreinwagen   | Wit     | 5-deurs  |â¬ 37.900  |Hyundai     |Kona     |37900         |150      |\n",
      "|2020        |2785        |Elektrisch   |NULL           | 100kW      |Automaat       |Hatchback            | Grijs   | 5-deurs  |â¬ 20.495  |Renault     |Zoe      |20495         |100      |\n",
      "|2014        |143631      |Elektrisch   |NULL           | 270kW      |Automaat       |Hatchback            | Grijs   | 5-deurs  |â¬ 40.950  |Tesla       |Model    |40950         |270      |\n",
      "|2014        |77332       |Elektrisch   |NULL           |NULL        |Automaat       | Hatchback           |Grijs    | 3-deurs  |â¬ 13.950  |Fiat        |500e     |13950         |NULL     |\n",
      "|2021        |6500        |Elektrisch   |NULL           |NULL        |Automaat       | Hatchback           |Zwart    | 3-deurs  |â¬ 43.650  |MINI        |Mini     |43650         |NULL     |\n",
      "|2017        |86952       |Elektrisch   |NULL           |NULL        |Automaat       | Hatchback           |Grijs    | 5-deurs  |â¬ 20.930  |Hyundai     |Ioniq    |20930         |NULL     |\n",
      "|2021        |2500        |Elektrisch   |NULL           | 87kW       |Automaat       |Hatchback            | Rood    | 3-deurs  |â¬ 29.950  |Fiat        |500e     |29950         |87       |\n",
      "----------------------------------------------------------------------------------------------------------------------------------------------------------------------------------------------\n",
      "\n"
     ]
    }
   ],
   "source": [
    "cars_sf.show()"
   ]
  },
  {
   "cell_type": "markdown",
   "id": "00c72ba2-39e2-435b-8cab-bafe4eda696e",
   "metadata": {},
   "source": [
    "### create new column age from bouwjaar"
   ]
  },
  {
   "cell_type": "code",
   "execution_count": 29,
   "id": "2fb9301f-b740-4547-9845-e50b34d5f5e5",
   "metadata": {},
   "outputs": [],
   "source": [
    "cars_sf = (\n",
    "    cars_sf\n",
    "    .with_column('age' , 2023 - cars_sf['BOUWJAAR'])\n",
    "    .with_column('N_doors', cars_sf[\"DEUR\"].substring(1,2))\n",
    ")"
   ]
  },
  {
   "cell_type": "code",
   "execution_count": 30,
   "id": "8f56e078-2628-4396-b3ad-c391b31b656e",
   "metadata": {},
   "outputs": [
    {
     "name": "stdout",
     "output_type": "stream",
     "text": [
      "-------------------------------------------------------------------------------------------------------------------------------------------------------------------------------------------------------------------\n",
      "|\"BOUWJAAR\"  |\"KM_STAND\"  |\"BRANDSTOF\"  |\"MOTORINHOUD\"  |\"VERMOGEN\"  |\"TRANSMISSIE\"   |\"TYPE\"           |\"KLEUR\"  |\"DEUR\"    |\"PRIJS\"     |\"MERK\"         |\"MODEL\"   |\"VRAAGPRIJS\"  |\"POWER\"  |\"AGE\"  |\"N_DOORS\"  |\n",
      "-------------------------------------------------------------------------------------------------------------------------------------------------------------------------------------------------------------------\n",
      "|1989        |97056       |Benzine      | 3946cc        | 140kW      |Handgeschakeld  | Cabriolet       | Zwart   | 2-deurs  |â¬ 44.950  |Morgan         |Plus      |44950         |140      |34     | 2         |\n",
      "|2014        |89384       |Benzine      | 1798cc        | 104kW      |Handgeschakeld  | Hatchback       | Grijs   | 5-deurs  |â¬ 12.450  |Honda          |Civic     |12450         |104      |9      | 5         |\n",
      "|2022        |20000       |Benzine      | 1332cc        | 100kW      |Automaat        | Hatchback       | Grijs   | 5-deurs  |â¬ 41.555  |Mercedes-Benz  |A-klasse  |41555         |100      |1      | 5         |\n",
      "|2022        |55          |Diesel       | 2298cc        | 132kW      |Handgeschakeld  | Bedrijfswagens  | Zilver  | 5-deurs  |â¬ 34.850  |Renault        |Master    |34850         |132      |1      | 5         |\n",
      "|2019        |25808       |Benzine      | 898cc         | 66kW       |Handgeschakeld  | Stationwagon    | Grijs   | 5-deurs  |â¬ 14.250  |Renault        |Clio      |14250         |66       |4      | 5         |\n",
      "|2018        |71032       |Benzine      | 999cc         | 55kW       |Handgeschakeld  | Hatchback       | Grijs   | 5-deurs  |â¬ 8.250   |Opel           |Karl      |8250          |55       |5      | 5         |\n",
      "|2018        |27035       |Benzine      | 1798cc        | 108kW      |Automaat        | MPV             | Wit     | 5-deurs  |â¬ 27.044  |Toyota         |Verso     |27044         |108      |5      | 5         |\n",
      "|2000        |227583      |Benzine      | 1390cc        | 55kW       |Handgeschakeld  | Hatchback       | Zwart   | 3-deurs  |â¬ 2.200   |Volkswagen     |Polo      |2200          |55       |23     | 3         |\n",
      "|2020        |23708       |Hybride      | 1969cc        | 146kW      |Automaat        | Stationwagon    | Grijs   | 5-deurs  |â¬ 47.750  |Volvo          |V60       |47750         |146      |3      | 5         |\n",
      "|1978        |21247       |Benzine      | 5343cc        | 202kW      |Automaat        | Sedan           | Blauw   | 4-deurs  |â¬ 29.950  |Jaguar         |XJ        |29950         |202      |45     | 4         |\n",
      "-------------------------------------------------------------------------------------------------------------------------------------------------------------------------------------------------------------------\n",
      "\n"
     ]
    }
   ],
   "source": [
    "cars_sf.sample(n=10).show()"
   ]
  },
  {
   "cell_type": "code",
   "execution_count": 31,
   "id": "a65af44d",
   "metadata": {},
   "outputs": [
    {
     "data": {
      "text/plain": [
       "231000"
      ]
     },
     "execution_count": 31,
     "metadata": {},
     "output_type": "execute_result"
    }
   ],
   "source": [
    "cars_sf.count()"
   ]
  },
  {
   "attachments": {},
   "cell_type": "markdown",
   "id": "23f4dda4-3a0a-4663-8094-1e92fa255dc2",
   "metadata": {},
   "source": [
    "### remove outliers"
   ]
  },
  {
   "cell_type": "code",
   "execution_count": 32,
   "id": "986c41a5",
   "metadata": {},
   "outputs": [],
   "source": [
    "cars_clean = (\n",
    "    cars_sf\n",
    "    .filter(F.col(\"KM_STAND\") <= 500000)\n",
    "    .filter(F.col(\"AGE\") <= 20 )\n",
    "    .filter(F.col(\"TRANSMISSIE\").in_(F.lit(\"Handgeschakeld\"), F.lit(\"Automaat\")) )\n",
    "    .filter(F.col(\"VRAAGPRIJS\") <= 100000)\n",
    "    .filter(F.col(\"BRANDSTOF\").in_(F.lit(\"Benzine\"), F.lit(\"Diesel\")) )\n",
    ")"
   ]
  },
  {
   "cell_type": "code",
   "execution_count": 33,
   "id": "ee6f297a",
   "metadata": {},
   "outputs": [],
   "source": [
    "## drop the columns that we don't need\n",
    "cars_clean = cars_clean.drop(\"PRIJS\")"
   ]
  },
  {
   "cell_type": "code",
   "execution_count": 34,
   "id": "06dc68d9",
   "metadata": {},
   "outputs": [
    {
     "name": "stdout",
     "output_type": "stream",
     "text": [
      "-------------------------------------------------------------------------------------------------------------------------------------------------------------------------------------------------------\n",
      "|\"BOUWJAAR\"  |\"KM_STAND\"  |\"BRANDSTOF\"  |\"MOTORINHOUD\"  |\"VERMOGEN\"  |\"TRANSMISSIE\"   |\"TYPE\"               |\"KLEUR\"  |\"DEUR\"    |\"MERK\"      |\"MODEL\"   |\"VRAAGPRIJS\"  |\"POWER\"  |\"AGE\"  |\"N_DOORS\"  |\n",
      "-------------------------------------------------------------------------------------------------------------------------------------------------------------------------------------------------------\n",
      "|2020        |7281        |Benzine      | 1199cc        | 96kW       |Automaat        | SUV / Terreinwagen  | Rood    | 5-deurs  |CitroÃ«n    |C3        |26950         |96       |3      | 5         |\n",
      "|2015        |26120       |Benzine      | 1242cc        | 51kW       |Handgeschakeld  | Hatchback           | Wit     | 3-deurs  |Fiat        |500       |9750          |51       |8      | 3         |\n",
      "|2018        |44398       |Benzine      | 998cc         | 73kW       |Handgeschakeld  | SUV / Terreinwagen  | Grijs   | 5-deurs  |Ford        |EcoSport  |15750         |73       |5      | 5         |\n",
      "|2014        |75633       |Benzine      | 1197cc        | 81kW       |Automaat        | MPV                 | Blauw   | 5-deurs  |Volkswagen  |Golf      |15199         |81       |9      | 5         |\n",
      "|2017        |87990       |Benzine      | 998cc         | 74kW       |Handgeschakeld  | Hatchback           | Oranje  | 5-deurs  |Ford        |Fiesta    |13445         |74       |6      | 5         |\n",
      "|2017        |24351       |Benzine      | 1199cc        | 82kW       |Handgeschakeld  | SUV / Terreinwagen  | Oranje  | 5-deurs  |CitroÃ«n    |C3        |16550         |82       |6      | 5         |\n",
      "|2015        |78722       |Benzine      | 1197cc        | 92kW       |Handgeschakeld  | SUV / Terreinwagen  | Blauw   | 5-deurs  |Dacia       |Duster    |11491         |92       |8      | 5         |\n",
      "|2014        |112478      |Benzine      | 1199cc        | 96kW       |Handgeschakeld  | Stationwagon        | Grijs   | 5-deurs  |Peugeot     |308       |12495         |96       |9      | 5         |\n",
      "|2019        |53557       |Diesel       | 1968cc        | 130kW      |Handgeschakeld  | Bedrijfswagens      | Wit     | 6-deurs  |Volkswagen  |Crafter   |29945         |130      |4      | 6         |\n",
      "|2020        |11507       |Benzine      | 998cc         | 49kW       |Handgeschakeld  | Hatchback           | Grijs   | 5-deurs  |Kia         |Picanto   |13900         |49       |3      | 5         |\n",
      "-------------------------------------------------------------------------------------------------------------------------------------------------------------------------------------------------------\n",
      "\n"
     ]
    }
   ],
   "source": [
    "cars_clean.show()"
   ]
  },
  {
   "attachments": {},
   "cell_type": "markdown",
   "id": "ccd4f3a1-6aeb-4ef5-bdbd-d9cf7c72c3ed",
   "metadata": {},
   "source": [
    "### save the data into a snowflake table"
   ]
  },
  {
   "cell_type": "code",
   "execution_count": 15,
   "id": "a63f298d-5107-414f-b202-09ea9d9e919a",
   "metadata": {},
   "outputs": [
    {
     "data": {
      "text/plain": [
       "179490"
      ]
     },
     "execution_count": 15,
     "metadata": {},
     "output_type": "execute_result"
    }
   ],
   "source": [
    "cars_clean.count()"
   ]
  },
  {
   "cell_type": "code",
   "execution_count": 35,
   "id": "a7aa38b3",
   "metadata": {},
   "outputs": [],
   "source": [
    "cars_clean.write.mode(\"overwrite\").save_as_table(\"CARS_DATA.PUBLIC.CARS_CLEAN\")"
   ]
  },
  {
   "cell_type": "markdown",
   "id": "4363d26e-d3ea-46cf-a7b0-563809ead3d2",
   "metadata": {},
   "source": [
    "## Gracefully close snowflake session"
   ]
  },
  {
   "cell_type": "code",
   "execution_count": 74,
   "id": "df82e497-730d-47f1-95ce-ebffa495e8c3",
   "metadata": {},
   "outputs": [],
   "source": [
    "session.close()"
   ]
  },
  {
   "cell_type": "code",
   "execution_count": null,
   "id": "37658fbe-d857-44f8-b6b5-b4e8ac26542b",
   "metadata": {},
   "outputs": [],
   "source": []
  }
 ],
 "metadata": {
  "kernelspec": {
   "display_name": "snowpark",
   "language": "python",
   "name": "python3"
  },
  "language_info": {
   "codemirror_mode": {
    "name": "ipython",
    "version": 3
   },
   "file_extension": ".py",
   "mimetype": "text/x-python",
   "name": "python",
   "nbconvert_exporter": "python",
   "pygments_lexer": "ipython3",
   "version": "3.8.13"
  }
 },
 "nbformat": 4,
 "nbformat_minor": 5
}
