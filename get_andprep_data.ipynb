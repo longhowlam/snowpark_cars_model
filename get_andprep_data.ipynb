{
 "cells": [
  {
   "cell_type": "markdown",
   "id": "7088a527-f2fd-40a8-b698-b45bcaaaa5b8",
   "metadata": {},
   "source": [
    "# Car price modeling with snowpark"
   ]
  },
  {
   "cell_type": "markdown",
   "id": "277825ae-b941-42b6-91fb-ff335dbeb6c0",
   "metadata": {},
   "source": [
    "## setup your local python development environment for snowpark\n",
    "\n",
    "\n",
    "https://docs.snowflake.com/en/developer-guide/snowpark/python/setup\n",
    "\n",
    "## setup connection to snowflake\n",
    "\n",
    "Apply for a snowflake trial, .....\n",
    "Make a note of the username password and accountname\n",
    "enable Anoconda in the Admin > Billing & Terms section\n",
    "\n",
    "create a python file connection_config.py with the following contents\n",
    "\n",
    "```python\n",
    "connection_parameters = {\n",
    "    \"account\": \"JTJLRSJ-MR87367\", \n",
    "    \"user\": \"snowflaketrialuser\",\n",
    "    \"password\": \"yourpassword\",\n",
    "    \"warehouse\": \"COMPUTE_WH\",\n",
    "    \"role\": \"accountadmin\",\n",
    "    \"database\": \"SNOWFLAKE_SAMPLE_DATA\",\n",
    "    \"schema\": \"TPCH_SF10\"\n",
    "}\n",
    "```\n"
   ]
  },
  {
   "cell_type": "code",
   "execution_count": 1,
   "id": "99f942d7-4ba2-45f2-a52e-67f9bc6c0c72",
   "metadata": {},
   "outputs": [],
   "source": [
    "import os\n",
    "from snowflake.snowpark import Session\n",
    "from snowflake.snowpark import functions as F\n",
    "from connection_config import connection_parameters\n",
    "\n",
    "import pandas as pd\n",
    "\n",
    "#### Current Environment Details\n",
    "def current_snowflake_env():\n",
    "    snowflake_environment = session.sql('select current_user(), current_role(), current_database(), current_schema(), current_version(), current_warehouse()').collect()\n",
    "    print('User                     : {}'.format(snowflake_environment[0][0]))\n",
    "    print('Role                     : {}'.format(snowflake_environment[0][1]))\n",
    "    print('Database                 : {}'.format(snowflake_environment[0][2]))\n",
    "    print('Schema                   : {}'.format(snowflake_environment[0][3]))\n",
    "    print('Warehouse                : {}'.format(snowflake_environment[0][5]))\n",
    "    print('Snowflake version        : {}'.format(snowflake_environment[0][4]))\n",
    "\n",
    "#### Set up a connection with Snowflake\n",
    "session = Session.builder.configs(connection_parameters).create()\n"
   ]
  },
  {
   "cell_type": "code",
   "execution_count": 2,
   "id": "a33d2935-83a0-4156-b6c4-3348c2d8e797",
   "metadata": {},
   "outputs": [
    {
     "name": "stdout",
     "output_type": "stream",
     "text": [
      "User                     : SNOWFLAKETRIALUSER\n",
      "Role                     : ACCOUNTADMIN\n",
      "Database                 : SNOWFLAKE_SAMPLE_DATA\n",
      "Schema                   : TPCH_SF10\n",
      "Warehouse                : COMPUTE_WH\n",
      "Snowflake version        : 7.11.6\n"
     ]
    }
   ],
   "source": [
    "current_snowflake_env()"
   ]
  },
  {
   "cell_type": "code",
   "execution_count": 3,
   "id": "e323d7c8-98cb-422c-b863-a20125415ce7",
   "metadata": {},
   "outputs": [],
   "source": [
    "session.add_packages(\"snowflake-snowpark-python\", \"pandas\", \"xgboost==1.7.3\")"
   ]
  },
  {
   "cell_type": "markdown",
   "id": "c2a8ce67-1595-403c-a156-4181ae4c0e86",
   "metadata": {},
   "source": [
    "## setup a new database"
   ]
  },
  {
   "cell_type": "code",
   "execution_count": 4,
   "id": "3d6db364-7e27-4e34-bdbc-4314b44196ad",
   "metadata": {},
   "outputs": [
    {
     "data": {
      "text/plain": [
       "[Row(status='Database CARS_DATA successfully created.')]"
      ]
     },
     "execution_count": 4,
     "metadata": {},
     "output_type": "execute_result"
    }
   ],
   "source": [
    "session.sql('CREATE OR REPLACE database cars_data').collect()\n"
   ]
  },
  {
   "cell_type": "code",
   "execution_count": 5,
   "id": "46c91a31-ea7e-4967-9882-6ca4e2c92b9b",
   "metadata": {},
   "outputs": [
    {
     "data": {
      "text/plain": [
       "[Row(status='Statement executed successfully.')]"
      ]
     },
     "execution_count": 5,
     "metadata": {},
     "output_type": "execute_result"
    }
   ],
   "source": [
    "session.sql('USE SCHEMA cars_data.public').collect()"
   ]
  },
  {
   "cell_type": "markdown",
   "id": "e85d4bcf-9425-4c16-994f-66417c87456d",
   "metadata": {},
   "source": [
    "## Get the cars data\n",
    "\n",
    "from different cars sites we scraped cars for sale data, for each car we have...."
   ]
  },
  {
   "cell_type": "code",
   "execution_count": 6,
   "id": "f677f47e-bdc5-4f5b-9555-9e89c125e33e",
   "metadata": {},
   "outputs": [],
   "source": [
    "car_prices = pd.read_csv(\"https://raw.githubusercontent.com/longhowlam/snowpark_cars_model/master/autos_tekoop.zip\", encoding = \"ISO-8859-1\")"
   ]
  },
  {
   "cell_type": "code",
   "execution_count": 7,
   "id": "f3b847e2-e980-47d5-b2fa-96c15efd1b68",
   "metadata": {},
   "outputs": [
    {
     "data": {
      "text/html": [
       "<div>\n",
       "<style scoped>\n",
       "    .dataframe tbody tr th:only-of-type {\n",
       "        vertical-align: middle;\n",
       "    }\n",
       "\n",
       "    .dataframe tbody tr th {\n",
       "        vertical-align: top;\n",
       "    }\n",
       "\n",
       "    .dataframe thead th {\n",
       "        text-align: right;\n",
       "    }\n",
       "</style>\n",
       "<table border=\"1\" class=\"dataframe\">\n",
       "  <thead>\n",
       "    <tr style=\"text-align: right;\">\n",
       "      <th></th>\n",
       "      <th>bouwjaar</th>\n",
       "      <th>km_stand</th>\n",
       "      <th>brandstof</th>\n",
       "      <th>motorinhoud</th>\n",
       "      <th>vermogen</th>\n",
       "      <th>transmissie</th>\n",
       "      <th>type</th>\n",
       "      <th>kleur</th>\n",
       "      <th>deur</th>\n",
       "      <th>prijs</th>\n",
       "      <th>merk</th>\n",
       "      <th>model</th>\n",
       "      <th>vraagprijs</th>\n",
       "    </tr>\n",
       "  </thead>\n",
       "  <tbody>\n",
       "    <tr>\n",
       "      <th>203707</th>\n",
       "      <td>2021</td>\n",
       "      <td>7976</td>\n",
       "      <td>Benzine</td>\n",
       "      <td>1998cc</td>\n",
       "      <td>135kW</td>\n",
       "      <td>Automaat</td>\n",
       "      <td>Hatchback</td>\n",
       "      <td>Zwart</td>\n",
       "      <td>5-deurs</td>\n",
       "      <td>â¬ 69.022</td>\n",
       "      <td>BMW</td>\n",
       "      <td>4-serie</td>\n",
       "      <td>69022</td>\n",
       "    </tr>\n",
       "    <tr>\n",
       "      <th>36127</th>\n",
       "      <td>2020</td>\n",
       "      <td>37646</td>\n",
       "      <td>Benzine</td>\n",
       "      <td>1991cc</td>\n",
       "      <td>155kW</td>\n",
       "      <td>Automaat</td>\n",
       "      <td>CoupÃ©</td>\n",
       "      <td>Zwart</td>\n",
       "      <td>5-deurs</td>\n",
       "      <td>â¬ 64.995</td>\n",
       "      <td>Mercedes-Benz</td>\n",
       "      <td>GLC-klasse</td>\n",
       "      <td>64995</td>\n",
       "    </tr>\n",
       "    <tr>\n",
       "      <th>8861</th>\n",
       "      <td>2021</td>\n",
       "      <td>24</td>\n",
       "      <td>Elektrisch</td>\n",
       "      <td>NaN</td>\n",
       "      <td>150kW</td>\n",
       "      <td>Automaat</td>\n",
       "      <td>SUV / Terreinwagen</td>\n",
       "      <td>Grijs</td>\n",
       "      <td>5-deurs</td>\n",
       "      <td>â¬ 65.900</td>\n",
       "      <td>Volkswagen</td>\n",
       "      <td>ID.4</td>\n",
       "      <td>65900</td>\n",
       "    </tr>\n",
       "    <tr>\n",
       "      <th>4141</th>\n",
       "      <td>2022</td>\n",
       "      <td>10</td>\n",
       "      <td>Elektrisch</td>\n",
       "      <td>NaN</td>\n",
       "      <td>NaN</td>\n",
       "      <td>Automaat</td>\n",
       "      <td>SUV / Terreinwagen</td>\n",
       "      <td>Zwart</td>\n",
       "      <td>5-deurs</td>\n",
       "      <td>â¬ 53.070</td>\n",
       "      <td>Skoda</td>\n",
       "      <td>Enyaq</td>\n",
       "      <td>53070</td>\n",
       "    </tr>\n",
       "    <tr>\n",
       "      <th>62733</th>\n",
       "      <td>2021</td>\n",
       "      <td>53336</td>\n",
       "      <td>Benzine</td>\n",
       "      <td>1498cc</td>\n",
       "      <td>110kW</td>\n",
       "      <td>Automaat</td>\n",
       "      <td>SUV / Terreinwagen</td>\n",
       "      <td>Grijs</td>\n",
       "      <td>5-deurs</td>\n",
       "      <td>â¬ 35.450</td>\n",
       "      <td>Skoda</td>\n",
       "      <td>Karoq</td>\n",
       "      <td>35450</td>\n",
       "    </tr>\n",
       "    <tr>\n",
       "      <th>220984</th>\n",
       "      <td>2013</td>\n",
       "      <td>29100</td>\n",
       "      <td>Diesel</td>\n",
       "      <td>2198cc</td>\n",
       "      <td>90kW</td>\n",
       "      <td>Handgeschakeld</td>\n",
       "      <td>Bedrijfswagens</td>\n",
       "      <td>Grijs</td>\n",
       "      <td>3-deurs</td>\n",
       "      <td>â¬ 71.995</td>\n",
       "      <td>Land</td>\n",
       "      <td>Rover</td>\n",
       "      <td>71995</td>\n",
       "    </tr>\n",
       "    <tr>\n",
       "      <th>143905</th>\n",
       "      <td>2017</td>\n",
       "      <td>37723</td>\n",
       "      <td>Benzine</td>\n",
       "      <td>999cc</td>\n",
       "      <td>52kW</td>\n",
       "      <td>Handgeschakeld</td>\n",
       "      <td>Hatchback</td>\n",
       "      <td>Paars</td>\n",
       "      <td>5-deurs</td>\n",
       "      <td>â¬ 8.950</td>\n",
       "      <td>Mitsubishi</td>\n",
       "      <td>Space</td>\n",
       "      <td>8950</td>\n",
       "    </tr>\n",
       "  </tbody>\n",
       "</table>\n",
       "</div>"
      ],
      "text/plain": [
       "        bouwjaar  km_stand   brandstof motorinhoud vermogen     transmissie  \\\n",
       "203707      2021      7976     Benzine      1998cc    135kW        Automaat   \n",
       "36127       2020     37646     Benzine      1991cc    155kW        Automaat   \n",
       "8861        2021        24  Elektrisch         NaN    150kW        Automaat   \n",
       "4141        2022        10  Elektrisch         NaN      NaN        Automaat   \n",
       "62733       2021     53336     Benzine      1498cc    110kW        Automaat   \n",
       "220984      2013     29100      Diesel      2198cc     90kW  Handgeschakeld   \n",
       "143905      2017     37723     Benzine       999cc     52kW  Handgeschakeld   \n",
       "\n",
       "                       type   kleur      deur       prijs           merk  \\\n",
       "203707            Hatchback   Zwart   5-deurs  â¬ 69.022            BMW   \n",
       "36127                CoupÃ©   Zwart   5-deurs  â¬ 64.995  Mercedes-Benz   \n",
       "8861     SUV / Terreinwagen   Grijs   5-deurs  â¬ 65.900     Volkswagen   \n",
       "4141     SUV / Terreinwagen   Zwart   5-deurs  â¬ 53.070          Skoda   \n",
       "62733    SUV / Terreinwagen   Grijs   5-deurs  â¬ 35.450          Skoda   \n",
       "220984       Bedrijfswagens   Grijs   3-deurs  â¬ 71.995           Land   \n",
       "143905            Hatchback   Paars   5-deurs   â¬ 8.950     Mitsubishi   \n",
       "\n",
       "             model  vraagprijs  \n",
       "203707     4-serie       69022  \n",
       "36127   GLC-klasse       64995  \n",
       "8861          ID.4       65900  \n",
       "4141         Enyaq       53070  \n",
       "62733        Karoq       35450  \n",
       "220984       Rover       71995  \n",
       "143905       Space        8950  "
      ]
     },
     "metadata": {},
     "output_type": "display_data"
    }
   ],
   "source": [
    "display(car_prices.sample(7))"
   ]
  },
  {
   "cell_type": "markdown",
   "id": "29b9dab2-62c5-4b85-b0fc-2058e8e45f53",
   "metadata": {},
   "source": [
    "## create a snowflake table"
   ]
  },
  {
   "cell_type": "code",
   "execution_count": 8,
   "id": "8fe71a36-6624-40c6-a8bf-71bb0b2c3a61",
   "metadata": {},
   "outputs": [
    {
     "data": {
      "text/plain": [
       "<snowflake.snowpark.table.Table at 0x7f9c1c3fbbe0>"
      ]
     },
     "execution_count": 8,
     "metadata": {},
     "output_type": "execute_result"
    }
   ],
   "source": [
    "## quote_identifiers set to False, \n",
    "## identifiers are passed on to Snowflake without quoting, i.e. identifiers will be coerced to uppercase by Snowflake.\n",
    "\n",
    "session.write_pandas(car_prices, \"CAR_PRICES\", auto_create_table = True, quote_identifiers = False, overwrite = True)"
   ]
  },
  {
   "cell_type": "markdown",
   "id": "2314197e-abed-4c29-b0b2-1ecae3e97588",
   "metadata": {},
   "source": [
    "## prepare data using snowpark\n",
    "Now that we have a table in snowflake we are not using pandas to do data manipulation, but using snbowpark instead"
   ]
  },
  {
   "cell_type": "code",
   "execution_count": 9,
   "id": "1ed9513c-caf2-4320-ad30-eab71f6e7e11",
   "metadata": {},
   "outputs": [],
   "source": [
    "cars_sf = session.table('CARS_DATA.PUBLIC.CAR_PRICES')"
   ]
  },
  {
   "cell_type": "code",
   "execution_count": 10,
   "id": "93bdb18c-cee5-4d2e-bf95-dfad9a230e28",
   "metadata": {},
   "outputs": [
    {
     "name": "stdout",
     "output_type": "stream",
     "text": [
      "------------------------------------------------------------------------------------------------------------------------------------------------------------------------------------\n",
      "|\"BOUWJAAR\"  |\"KM_STAND\"  |\"BRANDSTOF\"  |\"MOTORINHOUD\"  |\"VERMOGEN\"  |\"TRANSMISSIE\"  |\"TYPE\"               |\"KLEUR\"  |\"DEUR\"    |\"PRIJS\"     |\"MERK\"      |\"MODEL\"  |\"VRAAGPRIJS\"  |\n",
      "------------------------------------------------------------------------------------------------------------------------------------------------------------------------------------\n",
      "|2018        |54700       |Elektrisch   |NULL           | 245kW      |Automaat       |Hatchback            | Rood    | 5-deurs  |â¬ 54.999  |Tesla       |Model    |54999         |\n",
      "|2017        |56266       |Elektrisch   |NULL           |NULL        |Automaat       | Hatchback           |Wit      | 5-deurs  |â¬ 22.949  |Volkswagen  |e-Golf   |22949         |\n",
      "|2021        |1498        |Elektrisch   |NULL           |NULL        |Automaat       | SUV / Terreinwagen  |Groen    | 5-deurs  |â¬ 38.745  |Opel        |Mokka    |38745         |\n",
      "|2019        |26805       |Elektrisch   |NULL           | 150kW      |Automaat       |SUV / Terreinwagen   | Wit     | 5-deurs  |â¬ 37.900  |Hyundai     |Kona     |37900         |\n",
      "|2020        |2785        |Elektrisch   |NULL           | 100kW      |Automaat       |Hatchback            | Grijs   | 5-deurs  |â¬ 20.495  |Renault     |Zoe      |20495         |\n",
      "|2014        |143631      |Elektrisch   |NULL           | 270kW      |Automaat       |Hatchback            | Grijs   | 5-deurs  |â¬ 40.950  |Tesla       |Model    |40950         |\n",
      "|2014        |77332       |Elektrisch   |NULL           |NULL        |Automaat       | Hatchback           |Grijs    | 3-deurs  |â¬ 13.950  |Fiat        |500e     |13950         |\n",
      "|2021        |6500        |Elektrisch   |NULL           |NULL        |Automaat       | Hatchback           |Zwart    | 3-deurs  |â¬ 43.650  |MINI        |Mini     |43650         |\n",
      "|2017        |86952       |Elektrisch   |NULL           |NULL        |Automaat       | Hatchback           |Grijs    | 5-deurs  |â¬ 20.930  |Hyundai     |Ioniq    |20930         |\n",
      "|2021        |2500        |Elektrisch   |NULL           | 87kW       |Automaat       |Hatchback            | Rood    | 3-deurs  |â¬ 29.950  |Fiat        |500e     |29950         |\n",
      "------------------------------------------------------------------------------------------------------------------------------------------------------------------------------------\n",
      "\n"
     ]
    }
   ],
   "source": [
    "cars_sf.show()"
   ]
  },
  {
   "cell_type": "markdown",
   "id": "00c72ba2-39e2-435b-8cab-bafe4eda696e",
   "metadata": {},
   "source": [
    "### create new column age from bouwjaar"
   ]
  },
  {
   "cell_type": "code",
   "execution_count": 11,
   "id": "2fb9301f-b740-4547-9845-e50b34d5f5e5",
   "metadata": {},
   "outputs": [],
   "source": [
    "cars_sf = (\n",
    "    cars_sf\n",
    "    .with_column('age' , 2023 - cars_sf['BOUWJAAR'])\n",
    "    .with_column('N_doors', cars_sf[\"DEUR\"].substring(1,2))\n",
    ")"
   ]
  },
  {
   "cell_type": "code",
   "execution_count": 12,
   "id": "8f56e078-2628-4396-b3ad-c391b31b656e",
   "metadata": {},
   "outputs": [
    {
     "name": "stdout",
     "output_type": "stream",
     "text": [
      "---------------------------------------------------------------------------------------------------------------------------------------------------------------------------------------------------------------\n",
      "|\"BOUWJAAR\"  |\"KM_STAND\"  |\"BRANDSTOF\"  |\"MOTORINHOUD\"  |\"VERMOGEN\"       |\"TRANSMISSIE\"   |\"TYPE\"               |\"KLEUR\"   |\"DEUR\"    |\"PRIJS\"     |\"MERK\"      |\"MODEL\"  |\"VRAAGPRIJS\"  |\"AGE\"  |\"N_DOORS\"  |\n",
      "---------------------------------------------------------------------------------------------------------------------------------------------------------------------------------------------------------------\n",
      "|2019        |11500       |Benzine      | 1199cc        | 81kW            |Handgeschakeld  | SUV / Terreinwagen  | Rood     | 5-deurs  |â¬ 24.940  |Peugeot     |2008     |24940         |4      | 5         |\n",
      "|1997        |144857      |Benzine      | 1298cc        | 50kW            |Automaat        | Hatchback           | Blauw    | 2-deurs  |â¬ 899     |Suzuki      |Swift    |899           |26     | 2         |\n",
      "|2015        |45838       |Benzine      | 998cc         | 51kW            |Handgeschakeld  | Hatchback           | Wit      | 5-deurs  |â¬ 6.995   |CitroÃ«n    |C1       |6995          |8      | 5         |\n",
      "|2021        |12771       |Benzine      | 2998cc        | 250kW           |Automaat        | CoupÃ©              | Zwart    | 2-deurs  |â¬ 59.950  |BMW         |2        |59950         |2      | 2         |\n",
      "|2021        |24          |Diesel       | 99kW          | Handgeschakeld  |Bedrijfswagens  | Grijs               | 5-deurs  | 5-deurs  |â¬ 29.950  |Renault     |Master   |29950         |2      | 5         |\n",
      "|2017        |79076       |Benzine      | 898cc         | 66kW            |Handgeschakeld  | Stationwagon        | Rood     | 5-deurs  |â¬ 11.750  |Renault     |Clio     |11750         |6      | 5         |\n",
      "|2019        |79242       |Hybride      | 1798cc        | 90kW            |Automaat        | SUV / Terreinwagen  | Grijs    | 5-deurs  |â¬ 24.594  |Toyota      |C-HR     |24594         |4      | 5         |\n",
      "|2008        |148200      |Benzine      | 999cc         | 46kW            |Handgeschakeld  | Hatchback           | Geel     | 5-deurs  |â¬ 2.395   |Kia         |Picanto  |2395          |15     | 5         |\n",
      "|2022        |1           |Benzine      | 999cc         | 82kW            |Automaat        | SUV / Terreinwagen  | Wit      | 5-deurs  |â¬ 34.250  |Volkswagen  |T-Cross  |34250         |1      | 5         |\n",
      "|2017        |77978       |Benzine      | 1398cc        | 110kW           |Handgeschakeld  | Stationwagon        | Grijs    | 5-deurs  |â¬ 16.750  |Opel        |Astra    |16750         |6      | 5         |\n",
      "---------------------------------------------------------------------------------------------------------------------------------------------------------------------------------------------------------------\n",
      "\n"
     ]
    }
   ],
   "source": [
    "cars_sf.sample(n=10).show()"
   ]
  },
  {
   "cell_type": "markdown",
   "id": "23f4dda4-3a0a-4663-8094-1e92fa255dc2",
   "metadata": {},
   "source": [
    "### remove outliers, remove columns prijs, "
   ]
  },
  {
   "cell_type": "markdown",
   "id": "ccd4f3a1-6aeb-4ef5-bdbd-d9cf7c72c3ed",
   "metadata": {},
   "source": [
    "### maak vermogen inhoud en deur numeriek"
   ]
  },
  {
   "cell_type": "code",
   "execution_count": 13,
   "id": "a4b5f57f-34f4-4be7-869d-ea9fd67f31b3",
   "metadata": {},
   "outputs": [],
   "source": [
    "#### Do some cleaning by removing outliers\n",
    "cars_clean = (\n",
    "    cars_sf\n",
    "    .filter(F.col(\"KM_STAND\") <= 500000)\n",
    ")"
   ]
  },
  {
   "cell_type": "code",
   "execution_count": 14,
   "id": "a63f298d-5107-414f-b202-09ea9d9e919a",
   "metadata": {},
   "outputs": [
    {
     "name": "stdout",
     "output_type": "stream",
     "text": [
      "--------------------------------------------------------------------------------------------------------------------------------------------------------------------------------------------------------\n",
      "|\"BOUWJAAR\"  |\"KM_STAND\"  |\"BRANDSTOF\"  |\"MOTORINHOUD\"  |\"VERMOGEN\"  |\"TRANSMISSIE\"  |\"TYPE\"               |\"KLEUR\"  |\"DEUR\"    |\"PRIJS\"     |\"MERK\"      |\"MODEL\"  |\"VRAAGPRIJS\"  |\"AGE\"  |\"N_DOORS\"  |\n",
      "--------------------------------------------------------------------------------------------------------------------------------------------------------------------------------------------------------\n",
      "|2018        |54700       |Elektrisch   |NULL           | 245kW      |Automaat       |Hatchback            | Rood    | 5-deurs  |â¬ 54.999  |Tesla       |Model    |54999         |5      | 5         |\n",
      "|2017        |56266       |Elektrisch   |NULL           |NULL        |Automaat       | Hatchback           |Wit      | 5-deurs  |â¬ 22.949  |Volkswagen  |e-Golf   |22949         |6      | 5         |\n",
      "|2021        |1498        |Elektrisch   |NULL           |NULL        |Automaat       | SUV / Terreinwagen  |Groen    | 5-deurs  |â¬ 38.745  |Opel        |Mokka    |38745         |2      | 5         |\n",
      "|2019        |26805       |Elektrisch   |NULL           | 150kW      |Automaat       |SUV / Terreinwagen   | Wit     | 5-deurs  |â¬ 37.900  |Hyundai     |Kona     |37900         |4      | 5         |\n",
      "|2020        |2785        |Elektrisch   |NULL           | 100kW      |Automaat       |Hatchback            | Grijs   | 5-deurs  |â¬ 20.495  |Renault     |Zoe      |20495         |3      | 5         |\n",
      "|2014        |143631      |Elektrisch   |NULL           | 270kW      |Automaat       |Hatchback            | Grijs   | 5-deurs  |â¬ 40.950  |Tesla       |Model    |40950         |9      | 5         |\n",
      "|2014        |77332       |Elektrisch   |NULL           |NULL        |Automaat       | Hatchback           |Grijs    | 3-deurs  |â¬ 13.950  |Fiat        |500e     |13950         |9      | 3         |\n",
      "|2021        |6500        |Elektrisch   |NULL           |NULL        |Automaat       | Hatchback           |Zwart    | 3-deurs  |â¬ 43.650  |MINI        |Mini     |43650         |2      | 3         |\n",
      "|2017        |86952       |Elektrisch   |NULL           |NULL        |Automaat       | Hatchback           |Grijs    | 5-deurs  |â¬ 20.930  |Hyundai     |Ioniq    |20930         |6      | 5         |\n",
      "|2021        |2500        |Elektrisch   |NULL           | 87kW       |Automaat       |Hatchback            | Rood    | 3-deurs  |â¬ 29.950  |Fiat        |500e     |29950         |2      | 3         |\n",
      "--------------------------------------------------------------------------------------------------------------------------------------------------------------------------------------------------------\n",
      "\n"
     ]
    }
   ],
   "source": [
    "cars_clean.show()"
   ]
  },
  {
   "cell_type": "markdown",
   "id": "4363d26e-d3ea-46cf-a7b0-563809ead3d2",
   "metadata": {},
   "source": [
    "## Gracefully close snowflake session"
   ]
  },
  {
   "cell_type": "code",
   "execution_count": 74,
   "id": "df82e497-730d-47f1-95ce-ebffa495e8c3",
   "metadata": {},
   "outputs": [],
   "source": [
    "session.close()"
   ]
  },
  {
   "cell_type": "code",
   "execution_count": null,
   "id": "37658fbe-d857-44f8-b6b5-b4e8ac26542b",
   "metadata": {},
   "outputs": [],
   "source": []
  }
 ],
 "metadata": {
  "kernelspec": {
   "display_name": "py38_env:Python",
   "language": "python",
   "name": "conda-env-py38_env-py"
  },
  "language_info": {
   "codemirror_mode": {
    "name": "ipython",
    "version": 3
   },
   "file_extension": ".py",
   "mimetype": "text/x-python",
   "name": "python",
   "nbconvert_exporter": "python",
   "pygments_lexer": "ipython3",
   "version": "3.8.16"
  }
 },
 "nbformat": 4,
 "nbformat_minor": 5
}
