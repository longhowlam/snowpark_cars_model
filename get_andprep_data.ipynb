{
 "cells": [
  {
   "cell_type": "markdown",
   "id": "7088a527-f2fd-40a8-b698-b45bcaaaa5b8",
   "metadata": {},
   "source": [
    "# Car price modeling with snowpark"
   ]
  },
  {
   "cell_type": "markdown",
   "id": "277825ae-b941-42b6-91fb-ff335dbeb6c0",
   "metadata": {},
   "source": [
    "## setup your local python development environment for snowpark\n",
    "\n",
    "\n",
    "https://docs.snowflake.com/en/developer-guide/snowpark/python/setup\n",
    "\n",
    "## setup connection to snowflake\n",
    "\n",
    "Apply for a snowflake trial, .....\n",
    "Make a note of the username password and accountname\n",
    "enable Anoconda in the Admin > Billing & Terms section\n",
    "\n",
    "create a python file connection_config.py with the following contents\n",
    "\n",
    "```python\n",
    "connection_parameters = {\n",
    "    \"account\": \"JTJLRSJ-MR87367\", \n",
    "    \"user\": \"snowflaketrialuser\",\n",
    "    \"password\": \"yourpassword\",\n",
    "    \"warehouse\": \"COMPUTE_WH\",\n",
    "    \"role\": \"accountadmin\",\n",
    "    \"database\": \"SNOWFLAKE_SAMPLE_DATA\",\n",
    "    \"schema\": \"TPCH_SF10\"\n",
    "}\n",
    "```\n"
   ]
  },
  {
   "cell_type": "code",
   "execution_count": 12,
   "id": "99f942d7-4ba2-45f2-a52e-67f9bc6c0c72",
   "metadata": {},
   "outputs": [],
   "source": [
    "import os\n",
    "from snowflake.snowpark import Session\n",
    "from snowflake.snowpark import functions as F\n",
    "from connection_config import connection_parameters\n",
    "\n",
    "import pandas as pd\n",
    "\n",
    "#### Current Environment Details\n",
    "def current_snowflake_env():\n",
    "    snowflake_environment = session.sql('select current_user(), current_role(), current_database(), current_schema(), current_version(), current_warehouse()').collect()\n",
    "    print('User                     : {}'.format(snowflake_environment[0][0]))\n",
    "    print('Role                     : {}'.format(snowflake_environment[0][1]))\n",
    "    print('Database                 : {}'.format(snowflake_environment[0][2]))\n",
    "    print('Schema                   : {}'.format(snowflake_environment[0][3]))\n",
    "    print('Warehouse                : {}'.format(snowflake_environment[0][5]))\n",
    "    print('Snowflake version        : {}'.format(snowflake_environment[0][4]))\n",
    "\n",
    "#### Set up a connection with Snowflake\n",
    "session = Session.builder.configs(connection_parameters).create()\n"
   ]
  },
  {
   "cell_type": "code",
   "execution_count": 13,
   "id": "a33d2935-83a0-4156-b6c4-3348c2d8e797",
   "metadata": {},
   "outputs": [
    {
     "name": "stdout",
     "output_type": "stream",
     "text": [
      "User                     : SNOWFLAKETRIALUSER\n",
      "Role                     : ACCOUNTADMIN\n",
      "Database                 : SNOWFLAKE_SAMPLE_DATA\n",
      "Schema                   : TPCH_SF10\n",
      "Warehouse                : COMPUTE_WH\n",
      "Snowflake version        : 7.10.1\n"
     ]
    }
   ],
   "source": [
    "current_snowflake_env()"
   ]
  },
  {
   "cell_type": "code",
   "execution_count": 14,
   "id": "e323d7c8-98cb-422c-b863-a20125415ce7",
   "metadata": {},
   "outputs": [],
   "source": [
    "session.add_packages(\"snowflake-snowpark-python\", \"pandas\", \"xgboost==1.7.3\")"
   ]
  },
  {
   "cell_type": "markdown",
   "id": "c2a8ce67-1595-403c-a156-4181ae4c0e86",
   "metadata": {},
   "source": [
    "## setup a new database"
   ]
  },
  {
   "cell_type": "code",
   "execution_count": 5,
   "id": "3d6db364-7e27-4e34-bdbc-4314b44196ad",
   "metadata": {},
   "outputs": [
    {
     "data": {
      "text/plain": [
       "[Row(status='Database CARS_DATA successfully created.')]"
      ]
     },
     "execution_count": 5,
     "metadata": {},
     "output_type": "execute_result"
    }
   ],
   "source": [
    "session.sql('CREATE OR REPLACE database cars_data').collect()\n"
   ]
  },
  {
   "cell_type": "code",
   "execution_count": 6,
   "id": "46c91a31-ea7e-4967-9882-6ca4e2c92b9b",
   "metadata": {},
   "outputs": [
    {
     "data": {
      "text/plain": [
       "[Row(status='Statement executed successfully.')]"
      ]
     },
     "execution_count": 6,
     "metadata": {},
     "output_type": "execute_result"
    }
   ],
   "source": [
    "session.sql('USE SCHEMA cars_data.public').collect()"
   ]
  },
  {
   "cell_type": "markdown",
   "id": "e85d4bcf-9425-4c16-994f-66417c87456d",
   "metadata": {},
   "source": [
    "## Get the cars data\n",
    "\n",
    "from different cars sites we scraped cars for sale data, for each car we have...."
   ]
  },
  {
   "cell_type": "code",
   "execution_count": 7,
   "id": "f677f47e-bdc5-4f5b-9555-9e89c125e33e",
   "metadata": {},
   "outputs": [],
   "source": [
    "car_prices = pd.read_csv(\"https://raw.githubusercontent.com/longhowlam/snowpark_cars_model/master/autos_tekoop.zip\", encoding = \"ISO-8859-1\")"
   ]
  },
  {
   "cell_type": "code",
   "execution_count": 8,
   "id": "f3b847e2-e980-47d5-b2fa-96c15efd1b68",
   "metadata": {},
   "outputs": [
    {
     "data": {
      "text/html": [
       "<div>\n",
       "<style scoped>\n",
       "    .dataframe tbody tr th:only-of-type {\n",
       "        vertical-align: middle;\n",
       "    }\n",
       "\n",
       "    .dataframe tbody tr th {\n",
       "        vertical-align: top;\n",
       "    }\n",
       "\n",
       "    .dataframe thead th {\n",
       "        text-align: right;\n",
       "    }\n",
       "</style>\n",
       "<table border=\"1\" class=\"dataframe\">\n",
       "  <thead>\n",
       "    <tr style=\"text-align: right;\">\n",
       "      <th></th>\n",
       "      <th>bouwjaar</th>\n",
       "      <th>km_stand</th>\n",
       "      <th>brandstof</th>\n",
       "      <th>motorinhoud</th>\n",
       "      <th>vermogen</th>\n",
       "      <th>transmissie</th>\n",
       "      <th>type</th>\n",
       "      <th>kleur</th>\n",
       "      <th>deur</th>\n",
       "      <th>prijs</th>\n",
       "      <th>merk</th>\n",
       "      <th>model</th>\n",
       "      <th>vraagprijs</th>\n",
       "    </tr>\n",
       "  </thead>\n",
       "  <tbody>\n",
       "    <tr>\n",
       "      <th>220317</th>\n",
       "      <td>2009</td>\n",
       "      <td>148756</td>\n",
       "      <td>Benzine</td>\n",
       "      <td>6208cc</td>\n",
       "      <td>386kW</td>\n",
       "      <td>Automaat</td>\n",
       "      <td>Sedan</td>\n",
       "      <td>Zwart</td>\n",
       "      <td>4-deurs</td>\n",
       "      <td>â¬ 34.950</td>\n",
       "      <td>Mercedes-Benz</td>\n",
       "      <td>S-klasse</td>\n",
       "      <td>34950</td>\n",
       "    </tr>\n",
       "    <tr>\n",
       "      <th>219767</th>\n",
       "      <td>2008</td>\n",
       "      <td>282017</td>\n",
       "      <td>Diesel</td>\n",
       "      <td>2720cc</td>\n",
       "      <td>140kW</td>\n",
       "      <td>Automaat</td>\n",
       "      <td>Bedrijfswagens</td>\n",
       "      <td>Zwart</td>\n",
       "      <td>5-deurs</td>\n",
       "      <td>â¬ 9.950</td>\n",
       "      <td>Land</td>\n",
       "      <td>Rover</td>\n",
       "      <td>9950</td>\n",
       "    </tr>\n",
       "    <tr>\n",
       "      <th>65122</th>\n",
       "      <td>2020</td>\n",
       "      <td>15590</td>\n",
       "      <td>Benzine</td>\n",
       "      <td>1998cc</td>\n",
       "      <td>141kW</td>\n",
       "      <td>Automaat</td>\n",
       "      <td>Hatchback</td>\n",
       "      <td>Groen</td>\n",
       "      <td>5-deurs</td>\n",
       "      <td>â¬ 35.975</td>\n",
       "      <td>MINI</td>\n",
       "      <td>Cooper</td>\n",
       "      <td>35975</td>\n",
       "    </tr>\n",
       "    <tr>\n",
       "      <th>115982</th>\n",
       "      <td>2016</td>\n",
       "      <td>85000</td>\n",
       "      <td>Benzine</td>\n",
       "      <td>999cc</td>\n",
       "      <td>44kW</td>\n",
       "      <td>Handgeschakeld</td>\n",
       "      <td>Hatchback</td>\n",
       "      <td>Zwart</td>\n",
       "      <td>5-deurs</td>\n",
       "      <td>â¬ 8.750</td>\n",
       "      <td>Volkswagen</td>\n",
       "      <td>Up!</td>\n",
       "      <td>8750</td>\n",
       "    </tr>\n",
       "    <tr>\n",
       "      <th>198813</th>\n",
       "      <td>2007</td>\n",
       "      <td>295896</td>\n",
       "      <td>Diesel</td>\n",
       "      <td>2179cc</td>\n",
       "      <td>118kW</td>\n",
       "      <td>Handgeschakeld</td>\n",
       "      <td>SUV / Terreinwagen</td>\n",
       "      <td>Blauw</td>\n",
       "      <td>5-deurs</td>\n",
       "      <td>â¬ 5.300</td>\n",
       "      <td>Land</td>\n",
       "      <td>Rover</td>\n",
       "      <td>5300</td>\n",
       "    </tr>\n",
       "    <tr>\n",
       "      <th>177174</th>\n",
       "      <td>2008</td>\n",
       "      <td>126038</td>\n",
       "      <td>Benzine</td>\n",
       "      <td>1149cc</td>\n",
       "      <td>43kW</td>\n",
       "      <td>Handgeschakeld</td>\n",
       "      <td>Hatchback</td>\n",
       "      <td>Grijs</td>\n",
       "      <td>3-deurs</td>\n",
       "      <td>â¬ 2.980</td>\n",
       "      <td>Renault</td>\n",
       "      <td>Twingo</td>\n",
       "      <td>2980</td>\n",
       "    </tr>\n",
       "    <tr>\n",
       "      <th>112372</th>\n",
       "      <td>2012</td>\n",
       "      <td>103016</td>\n",
       "      <td>Benzine</td>\n",
       "      <td>1390cc</td>\n",
       "      <td>90kW</td>\n",
       "      <td>Handgeschakeld</td>\n",
       "      <td>SUV / Terreinwagen</td>\n",
       "      <td>Grijs</td>\n",
       "      <td>5-deurs</td>\n",
       "      <td>â¬ 10.849</td>\n",
       "      <td>Skoda</td>\n",
       "      <td>Yeti</td>\n",
       "      <td>10849</td>\n",
       "    </tr>\n",
       "  </tbody>\n",
       "</table>\n",
       "</div>"
      ],
      "text/plain": [
       "        bouwjaar  km_stand brandstof motorinhoud vermogen     transmissie  \\\n",
       "220317      2009    148756   Benzine      6208cc    386kW        Automaat   \n",
       "219767      2008    282017    Diesel      2720cc    140kW        Automaat   \n",
       "65122       2020     15590   Benzine      1998cc    141kW        Automaat   \n",
       "115982      2016     85000   Benzine       999cc     44kW  Handgeschakeld   \n",
       "198813      2007    295896    Diesel      2179cc    118kW  Handgeschakeld   \n",
       "177174      2008    126038   Benzine      1149cc     43kW  Handgeschakeld   \n",
       "112372      2012    103016   Benzine      1390cc     90kW  Handgeschakeld   \n",
       "\n",
       "                       type   kleur      deur       prijs           merk  \\\n",
       "220317                Sedan   Zwart   4-deurs  â¬ 34.950  Mercedes-Benz   \n",
       "219767       Bedrijfswagens   Zwart   5-deurs   â¬ 9.950           Land   \n",
       "65122             Hatchback   Groen   5-deurs  â¬ 35.975           MINI   \n",
       "115982            Hatchback   Zwart   5-deurs   â¬ 8.750     Volkswagen   \n",
       "198813   SUV / Terreinwagen   Blauw   5-deurs   â¬ 5.300           Land   \n",
       "177174            Hatchback   Grijs   3-deurs   â¬ 2.980        Renault   \n",
       "112372   SUV / Terreinwagen   Grijs   5-deurs  â¬ 10.849          Skoda   \n",
       "\n",
       "           model  vraagprijs  \n",
       "220317  S-klasse       34950  \n",
       "219767     Rover        9950  \n",
       "65122     Cooper       35975  \n",
       "115982       Up!        8750  \n",
       "198813     Rover        5300  \n",
       "177174    Twingo        2980  \n",
       "112372      Yeti       10849  "
      ]
     },
     "metadata": {},
     "output_type": "display_data"
    }
   ],
   "source": [
    "display(car_prices.sample(7))"
   ]
  },
  {
   "cell_type": "markdown",
   "id": "29b9dab2-62c5-4b85-b0fc-2058e8e45f53",
   "metadata": {},
   "source": [
    "## create a snowflake table"
   ]
  },
  {
   "cell_type": "code",
   "execution_count": 9,
   "id": "8fe71a36-6624-40c6-a8bf-71bb0b2c3a61",
   "metadata": {},
   "outputs": [
    {
     "data": {
      "text/plain": [
       "<snowflake.snowpark.table.Table at 0x7fe45cfefb20>"
      ]
     },
     "execution_count": 9,
     "metadata": {},
     "output_type": "execute_result"
    }
   ],
   "source": [
    "## quote_identifiers set to False, \n",
    "## identifiers are passed on to Snowflake without quoting, i.e. identifiers will be coerced to uppercase by Snowflake.\n",
    "\n",
    "session.write_pandas(car_prices, \"CAR_PRICES\", auto_create_table = True, quote_identifiers = False, overwrite = True)"
   ]
  },
  {
   "cell_type": "markdown",
   "id": "2314197e-abed-4c29-b0b2-1ecae3e97588",
   "metadata": {},
   "source": [
    "## prepare data using snowpark\n",
    "Now that we have a table in snowflake we are not using pandas to do data manipulation, but using snbowpark instead"
   ]
  },
  {
   "cell_type": "code",
   "execution_count": 15,
   "id": "1ed9513c-caf2-4320-ad30-eab71f6e7e11",
   "metadata": {},
   "outputs": [],
   "source": [
    "cars_sf = session.table('CARS_DATA.PUBLIC.CAR_PRICES')"
   ]
  },
  {
   "cell_type": "code",
   "execution_count": 16,
   "id": "93bdb18c-cee5-4d2e-bf95-dfad9a230e28",
   "metadata": {},
   "outputs": [
    {
     "name": "stdout",
     "output_type": "stream",
     "text": [
      "------------------------------------------------------------------------------------------------------------------------------------------------------------------------------------\n",
      "|\"BOUWJAAR\"  |\"KM_STAND\"  |\"BRANDSTOF\"  |\"MOTORINHOUD\"  |\"VERMOGEN\"  |\"TRANSMISSIE\"  |\"TYPE\"               |\"KLEUR\"  |\"DEUR\"    |\"PRIJS\"     |\"MERK\"      |\"MODEL\"  |\"VRAAGPRIJS\"  |\n",
      "------------------------------------------------------------------------------------------------------------------------------------------------------------------------------------\n",
      "|2018        |54700       |Elektrisch   |NULL           | 245kW      |Automaat       |Hatchback            | Rood    | 5-deurs  |â¬ 54.999  |Tesla       |Model    |54999         |\n",
      "|2017        |56266       |Elektrisch   |NULL           |NULL        |Automaat       | Hatchback           |Wit      | 5-deurs  |â¬ 22.949  |Volkswagen  |e-Golf   |22949         |\n",
      "|2021        |1498        |Elektrisch   |NULL           |NULL        |Automaat       | SUV / Terreinwagen  |Groen    | 5-deurs  |â¬ 38.745  |Opel        |Mokka    |38745         |\n",
      "|2019        |26805       |Elektrisch   |NULL           | 150kW      |Automaat       |SUV / Terreinwagen   | Wit     | 5-deurs  |â¬ 37.900  |Hyundai     |Kona     |37900         |\n",
      "|2020        |2785        |Elektrisch   |NULL           | 100kW      |Automaat       |Hatchback            | Grijs   | 5-deurs  |â¬ 20.495  |Renault     |Zoe      |20495         |\n",
      "|2014        |143631      |Elektrisch   |NULL           | 270kW      |Automaat       |Hatchback            | Grijs   | 5-deurs  |â¬ 40.950  |Tesla       |Model    |40950         |\n",
      "|2014        |77332       |Elektrisch   |NULL           |NULL        |Automaat       | Hatchback           |Grijs    | 3-deurs  |â¬ 13.950  |Fiat        |500e     |13950         |\n",
      "|2021        |6500        |Elektrisch   |NULL           |NULL        |Automaat       | Hatchback           |Zwart    | 3-deurs  |â¬ 43.650  |MINI        |Mini     |43650         |\n",
      "|2017        |86952       |Elektrisch   |NULL           |NULL        |Automaat       | Hatchback           |Grijs    | 5-deurs  |â¬ 20.930  |Hyundai     |Ioniq    |20930         |\n",
      "|2021        |2500        |Elektrisch   |NULL           | 87kW       |Automaat       |Hatchback            | Rood    | 3-deurs  |â¬ 29.950  |Fiat        |500e     |29950         |\n",
      "------------------------------------------------------------------------------------------------------------------------------------------------------------------------------------\n",
      "\n"
     ]
    }
   ],
   "source": [
    "cars_sf.show()"
   ]
  },
  {
   "cell_type": "markdown",
   "id": "00c72ba2-39e2-435b-8cab-bafe4eda696e",
   "metadata": {},
   "source": [
    "### create new column age from bouwjaar"
   ]
  },
  {
   "cell_type": "code",
   "execution_count": 33,
   "id": "2fb9301f-b740-4547-9845-e50b34d5f5e5",
   "metadata": {},
   "outputs": [],
   "source": [
    "cars_sf = (\n",
    "    cars_sf\n",
    "    .with_column('age' , 2023 - cars_sf['BOUWJAAR'])\n",
    "    .with_column('N_doors', cars_sf[\"DEUR\"].substring(1,2))\n",
    ")"
   ]
  },
  {
   "cell_type": "code",
   "execution_count": 36,
   "id": "8f56e078-2628-4396-b3ad-c391b31b656e",
   "metadata": {},
   "outputs": [
    {
     "name": "stdout",
     "output_type": "stream",
     "text": [
      "---------------------------------------------------------------------------------------------------------------------------------------------------------------------------------------------------------\n",
      "|\"BOUWJAAR\"  |\"KM_STAND\"  |\"BRANDSTOF\"  |\"MOTORINHOUD\"  |\"VERMOGEN\"  |\"TRANSMISSIE\"   |\"TYPE\"               |\"KLEUR\"  |\"DEUR\"    |\"PRIJS\"     |\"MERK\"      |\"MODEL\"  |\"VRAAGPRIJS\"  |\"AGE\"  |\"N_DOORS\"  |\n",
      "---------------------------------------------------------------------------------------------------------------------------------------------------------------------------------------------------------\n",
      "|2020        |32856       |Benzine      | 2995cc        | 260kW      |Automaat        | Cabriolet           | Groen   | 2-deurs  |â¬ 82.995  |Audi        |S5       |82995         |3      | 2         |\n",
      "|2003        |278482      |Benzine      | 1796cc        | 90kW       |Handgeschakeld  | Sedan               | Blauw   | 4-deurs  |â¬ 1.395   |Opel        |Vectra   |1395          |20     | 4         |\n",
      "|2019        |46702       |Benzine      | 898cc         | 66kW       |Handgeschakeld  | Hatchback           | Zwart   | 5-deurs  |â¬ 13.950  |Dacia       |Sandero  |13950         |4      | 5         |\n",
      "|2013        |81141       |Benzine      | 1395cc        | 90kW       |Handgeschakeld  | Stationwagon        | Zwart   | 5-deurs  |â¬ 14.950  |Volkswagen  |Golf     |14950         |10     | 5         |\n",
      "|2020        |13519       |Benzine      | 1330cc        | 117kW      |Automaat        | MPV                 | Grijs   | 5-deurs  |â¬ 30.650  |Renault     |ScÃ©nic  |30650         |3      | 5         |\n",
      "|2016        |109462      |Benzine      | 1598cc        | 121kW      |Automaat        | MPV                 | Grijs   | 5-deurs  |â¬ 16.800  |CitroÃ«n    |C4       |16800         |7      | 5         |\n",
      "|2013        |78367       |Benzine      | 1198cc        | 97kW       |Handgeschakeld  | MPV                 | Grijs   | 5-deurs  |â¬ 10.900  |Renault     |ScÃ©nic  |10900         |10     | 5         |\n",
      "|2008        |241686      |Benzine      | 1390cc        | 110kW      |Handgeschakeld  | SUV / Terreinwagen  | Grijs   | 5-deurs  |â¬ 6.975   |Volkswagen  |Tiguan   |6975          |15     | 5         |\n",
      "|2018        |34389       |Benzine      | 999cc         | 44kW       |Handgeschakeld  | Hatchback           | Wit     | 5-deurs  |â¬ 10.150  |Skoda       |Citigo   |10150         |5      | 5         |\n",
      "|2021        |7126        |Benzine      | 999cc         | 84kW       |Automaat        | SUV / Terreinwagen  | Rood    | 5-deurs  |â¬ 29.885  |Nissan      |Juke     |29885         |2      | 5         |\n",
      "---------------------------------------------------------------------------------------------------------------------------------------------------------------------------------------------------------\n",
      "\n"
     ]
    }
   ],
   "source": [
    "cars_sf.sample(n=10).show()"
   ]
  },
  {
   "cell_type": "markdown",
   "id": "23f4dda4-3a0a-4663-8094-1e92fa255dc2",
   "metadata": {},
   "source": [
    "### remove outliers, remove columns prijs, "
   ]
  },
  {
   "cell_type": "markdown",
   "id": "ccd4f3a1-6aeb-4ef5-bdbd-d9cf7c72c3ed",
   "metadata": {},
   "source": [
    "### maak vermogen inhoud en deur numeriek"
   ]
  },
  {
   "cell_type": "code",
   "execution_count": 65,
   "id": "a4b5f57f-34f4-4be7-869d-ea9fd67f31b3",
   "metadata": {},
   "outputs": [],
   "source": [
    "#### Do some cleaning by removing outliers\n",
    "cars_clean = (\n",
    "    cars_sf\n",
    "    .filter(F.col(\"KM_STAND\") <= 500000)\n",
    ")"
   ]
  },
  {
   "cell_type": "code",
   "execution_count": 66,
   "id": "a63f298d-5107-414f-b202-09ea9d9e919a",
   "metadata": {},
   "outputs": [
    {
     "name": "stdout",
     "output_type": "stream",
     "text": [
      "------------------------------------------------------------------------------------------------------------------------------------------------------------------------------------\n",
      "|\"BOUWJAAR\"  |\"KM_STAND\"  |\"BRANDSTOF\"  |\"MOTORINHOUD\"  |\"VERMOGEN\"  |\"TRANSMISSIE\"  |\"TYPE\"               |\"KLEUR\"  |\"DEUR\"    |\"PRIJS\"     |\"MERK\"      |\"MODEL\"  |\"VRAAGPRIJS\"  |\n",
      "------------------------------------------------------------------------------------------------------------------------------------------------------------------------------------\n",
      "|2018        |54700       |Elektrisch   |NULL           | 245kW      |Automaat       |Hatchback            | Rood    | 5-deurs  |â¬ 54.999  |Tesla       |Model    |54999         |\n",
      "|2017        |56266       |Elektrisch   |NULL           |NULL        |Automaat       | Hatchback           |Wit      | 5-deurs  |â¬ 22.949  |Volkswagen  |e-Golf   |22949         |\n",
      "|2021        |1498        |Elektrisch   |NULL           |NULL        |Automaat       | SUV / Terreinwagen  |Groen    | 5-deurs  |â¬ 38.745  |Opel        |Mokka    |38745         |\n",
      "|2019        |26805       |Elektrisch   |NULL           | 150kW      |Automaat       |SUV / Terreinwagen   | Wit     | 5-deurs  |â¬ 37.900  |Hyundai     |Kona     |37900         |\n",
      "|2020        |2785        |Elektrisch   |NULL           | 100kW      |Automaat       |Hatchback            | Grijs   | 5-deurs  |â¬ 20.495  |Renault     |Zoe      |20495         |\n",
      "|2014        |143631      |Elektrisch   |NULL           | 270kW      |Automaat       |Hatchback            | Grijs   | 5-deurs  |â¬ 40.950  |Tesla       |Model    |40950         |\n",
      "|2014        |77332       |Elektrisch   |NULL           |NULL        |Automaat       | Hatchback           |Grijs    | 3-deurs  |â¬ 13.950  |Fiat        |500e     |13950         |\n",
      "|2021        |6500        |Elektrisch   |NULL           |NULL        |Automaat       | Hatchback           |Zwart    | 3-deurs  |â¬ 43.650  |MINI        |Mini     |43650         |\n",
      "|2017        |86952       |Elektrisch   |NULL           |NULL        |Automaat       | Hatchback           |Grijs    | 5-deurs  |â¬ 20.930  |Hyundai     |Ioniq    |20930         |\n",
      "|2021        |2500        |Elektrisch   |NULL           | 87kW       |Automaat       |Hatchback            | Rood    | 3-deurs  |â¬ 29.950  |Fiat        |500e     |29950         |\n",
      "------------------------------------------------------------------------------------------------------------------------------------------------------------------------------------\n",
      "\n"
     ]
    }
   ],
   "source": [
    "cars_clean.show()"
   ]
  },
  {
   "cell_type": "markdown",
   "id": "4363d26e-d3ea-46cf-a7b0-563809ead3d2",
   "metadata": {},
   "source": [
    "## Gracefully close snowflake session"
   ]
  },
  {
   "cell_type": "code",
   "execution_count": 74,
   "id": "df82e497-730d-47f1-95ce-ebffa495e8c3",
   "metadata": {},
   "outputs": [],
   "source": [
    "session.close()"
   ]
  },
  {
   "cell_type": "code",
   "execution_count": null,
   "id": "37658fbe-d857-44f8-b6b5-b4e8ac26542b",
   "metadata": {},
   "outputs": [],
   "source": []
  }
 ],
 "metadata": {
  "kernelspec": {
   "display_name": "py38_env:Python",
   "language": "python",
   "name": "conda-env-py38_env-py"
  },
  "language_info": {
   "codemirror_mode": {
    "name": "ipython",
    "version": 3
   },
   "file_extension": ".py",
   "mimetype": "text/x-python",
   "name": "python",
   "nbconvert_exporter": "python",
   "pygments_lexer": "ipython3",
   "version": "3.8.16"
  }
 },
 "nbformat": 4,
 "nbformat_minor": 5
}
