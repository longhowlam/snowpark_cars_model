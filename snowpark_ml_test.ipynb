{
 "cells": [
  {
   "attachments": {},
   "cell_type": "markdown",
   "metadata": {},
   "source": [
    "## snowparkML test"
   ]
  },
  {
   "attachments": {},
   "cell_type": "markdown",
   "metadata": {},
   "source": [
    "### First set up the snowflake environment\n",
    "We have a trial account setup"
   ]
  },
  {
   "cell_type": "code",
   "execution_count": 1,
   "metadata": {},
   "outputs": [],
   "source": [
    "import os\n",
    "from snowflake.snowpark import Session\n",
    "from snowflake.snowpark import functions as F\n",
    "from connection_config import connection_parameters\n",
    "\n",
    "import pandas as pd\n",
    "\n",
    "#### Current Environment Details\n",
    "def current_snowflake_env():\n",
    "    snowflake_environment = session.sql('select current_user(), current_role(), current_database(), current_schema(), current_version(), current_warehouse()').collect()\n",
    "    print('User                     : {}'.format(snowflake_environment[0][0]))\n",
    "    print('Role                     : {}'.format(snowflake_environment[0][1]))\n",
    "    print('Database                 : {}'.format(snowflake_environment[0][2]))\n",
    "    print('Schema                   : {}'.format(snowflake_environment[0][3]))\n",
    "    print('Warehouse                : {}'.format(snowflake_environment[0][5]))\n",
    "    print('Snowflake version        : {}'.format(snowflake_environment[0][4]))\n",
    "\n",
    "#### Set up a connection with Snowflake\n",
    "session = Session.builder.configs(connection_parameters).create()"
   ]
  },
  {
   "cell_type": "code",
   "execution_count": 2,
   "metadata": {},
   "outputs": [],
   "source": [
    "from snowflake.ml.modeling.pipeline import Pipeline\n",
    "from snowflake.ml.modeling.preprocessing import OneHotEncoder"
   ]
  },
  {
   "cell_type": "code",
   "execution_count": 3,
   "metadata": {},
   "outputs": [
    {
     "name": "stdout",
     "output_type": "stream",
     "text": [
      "User                     : SNOWFLAKETRIALUSER\n",
      "Role                     : ACCOUNTADMIN\n",
      "Database                 : SNOWFLAKE_SAMPLE_DATA\n",
      "Schema                   : TPCH_SF10\n",
      "Warehouse                : COMPUTE_WH\n",
      "Snowflake version        : 7.34.1\n"
     ]
    }
   ],
   "source": [
    "current_snowflake_env()"
   ]
  },
  {
   "attachments": {},
   "cell_type": "markdown",
   "metadata": {},
   "source": [
    "### Get some data cars"
   ]
  },
  {
   "cell_type": "code",
   "execution_count": 4,
   "metadata": {},
   "outputs": [
    {
     "data": {
      "text/plain": [
       "(231000, 14)"
      ]
     },
     "execution_count": 4,
     "metadata": {},
     "output_type": "execute_result"
    }
   ],
   "source": [
    "car_prices = pd.read_csv(\"https://raw.githubusercontent.com/longhowlam/snowpark_cars_model/master/autos_tekoop.zip\", encoding = \"ISO-8859-1\")\n",
    "### extract number form vermogen column\n",
    "car_prices['power'] = car_prices['vermogen'].str.extract('(\\d+)')\n",
    "car_prices.shape"
   ]
  },
  {
   "cell_type": "code",
   "execution_count": 4,
   "metadata": {},
   "outputs": [
    {
     "data": {
      "text/html": [
       "<div>\n",
       "<style scoped>\n",
       "    .dataframe tbody tr th:only-of-type {\n",
       "        vertical-align: middle;\n",
       "    }\n",
       "\n",
       "    .dataframe tbody tr th {\n",
       "        vertical-align: top;\n",
       "    }\n",
       "\n",
       "    .dataframe thead th {\n",
       "        text-align: right;\n",
       "    }\n",
       "</style>\n",
       "<table border=\"1\" class=\"dataframe\">\n",
       "  <thead>\n",
       "    <tr style=\"text-align: right;\">\n",
       "      <th></th>\n",
       "      <th>bouwjaar</th>\n",
       "      <th>km_stand</th>\n",
       "      <th>brandstof</th>\n",
       "      <th>motorinhoud</th>\n",
       "      <th>vermogen</th>\n",
       "      <th>transmissie</th>\n",
       "      <th>type</th>\n",
       "      <th>kleur</th>\n",
       "      <th>deur</th>\n",
       "      <th>prijs</th>\n",
       "      <th>merk</th>\n",
       "      <th>model</th>\n",
       "      <th>vraagprijs</th>\n",
       "      <th>power</th>\n",
       "    </tr>\n",
       "  </thead>\n",
       "  <tbody>\n",
       "    <tr>\n",
       "      <th>0</th>\n",
       "      <td>2018</td>\n",
       "      <td>54700</td>\n",
       "      <td>Elektrisch</td>\n",
       "      <td>NaN</td>\n",
       "      <td>245kW</td>\n",
       "      <td>Automaat</td>\n",
       "      <td>Hatchback</td>\n",
       "      <td>Rood</td>\n",
       "      <td>5-deurs</td>\n",
       "      <td>â¬ 54.999</td>\n",
       "      <td>Tesla</td>\n",
       "      <td>Model</td>\n",
       "      <td>54999</td>\n",
       "      <td>245</td>\n",
       "    </tr>\n",
       "    <tr>\n",
       "      <th>1</th>\n",
       "      <td>2017</td>\n",
       "      <td>56266</td>\n",
       "      <td>Elektrisch</td>\n",
       "      <td>NaN</td>\n",
       "      <td>NaN</td>\n",
       "      <td>Automaat</td>\n",
       "      <td>Hatchback</td>\n",
       "      <td>Wit</td>\n",
       "      <td>5-deurs</td>\n",
       "      <td>â¬ 22.949</td>\n",
       "      <td>Volkswagen</td>\n",
       "      <td>e-Golf</td>\n",
       "      <td>22949</td>\n",
       "      <td>NaN</td>\n",
       "    </tr>\n",
       "    <tr>\n",
       "      <th>2</th>\n",
       "      <td>2021</td>\n",
       "      <td>1498</td>\n",
       "      <td>Elektrisch</td>\n",
       "      <td>NaN</td>\n",
       "      <td>NaN</td>\n",
       "      <td>Automaat</td>\n",
       "      <td>SUV / Terreinwagen</td>\n",
       "      <td>Groen</td>\n",
       "      <td>5-deurs</td>\n",
       "      <td>â¬ 38.745</td>\n",
       "      <td>Opel</td>\n",
       "      <td>Mokka</td>\n",
       "      <td>38745</td>\n",
       "      <td>NaN</td>\n",
       "    </tr>\n",
       "    <tr>\n",
       "      <th>3</th>\n",
       "      <td>2019</td>\n",
       "      <td>26805</td>\n",
       "      <td>Elektrisch</td>\n",
       "      <td>NaN</td>\n",
       "      <td>150kW</td>\n",
       "      <td>Automaat</td>\n",
       "      <td>SUV / Terreinwagen</td>\n",
       "      <td>Wit</td>\n",
       "      <td>5-deurs</td>\n",
       "      <td>â¬ 37.900</td>\n",
       "      <td>Hyundai</td>\n",
       "      <td>Kona</td>\n",
       "      <td>37900</td>\n",
       "      <td>150</td>\n",
       "    </tr>\n",
       "    <tr>\n",
       "      <th>4</th>\n",
       "      <td>2020</td>\n",
       "      <td>2785</td>\n",
       "      <td>Elektrisch</td>\n",
       "      <td>NaN</td>\n",
       "      <td>100kW</td>\n",
       "      <td>Automaat</td>\n",
       "      <td>Hatchback</td>\n",
       "      <td>Grijs</td>\n",
       "      <td>5-deurs</td>\n",
       "      <td>â¬ 20.495</td>\n",
       "      <td>Renault</td>\n",
       "      <td>Zoe</td>\n",
       "      <td>20495</td>\n",
       "      <td>100</td>\n",
       "    </tr>\n",
       "  </tbody>\n",
       "</table>\n",
       "</div>"
      ],
      "text/plain": [
       "   bouwjaar  km_stand   brandstof motorinhoud vermogen transmissie  \\\n",
       "0      2018     54700  Elektrisch         NaN    245kW    Automaat   \n",
       "1      2017     56266  Elektrisch         NaN      NaN    Automaat   \n",
       "2      2021      1498  Elektrisch         NaN      NaN    Automaat   \n",
       "3      2019     26805  Elektrisch         NaN    150kW    Automaat   \n",
       "4      2020      2785  Elektrisch         NaN    100kW    Automaat   \n",
       "\n",
       "                  type   kleur      deur       prijs        merk   model  \\\n",
       "0            Hatchback    Rood   5-deurs  â¬ 54.999       Tesla   Model   \n",
       "1            Hatchback     Wit   5-deurs  â¬ 22.949  Volkswagen  e-Golf   \n",
       "2   SUV / Terreinwagen   Groen   5-deurs  â¬ 38.745        Opel   Mokka   \n",
       "3   SUV / Terreinwagen     Wit   5-deurs  â¬ 37.900     Hyundai    Kona   \n",
       "4            Hatchback   Grijs   5-deurs  â¬ 20.495     Renault     Zoe   \n",
       "\n",
       "   vraagprijs power  \n",
       "0       54999   245  \n",
       "1       22949   NaN  \n",
       "2       38745   NaN  \n",
       "3       37900   150  \n",
       "4       20495   100  "
      ]
     },
     "execution_count": 4,
     "metadata": {},
     "output_type": "execute_result"
    }
   ],
   "source": [
    "car_prices.head()"
   ]
  },
  {
   "attachments": {},
   "cell_type": "markdown",
   "metadata": {},
   "source": [
    "### Setup a new database in snowflake and use that public schema"
   ]
  },
  {
   "cell_type": "code",
   "execution_count": 9,
   "metadata": {},
   "outputs": [
    {
     "data": {
      "text/plain": [
       "[Row(status='Statement executed successfully.')]"
      ]
     },
     "execution_count": 9,
     "metadata": {},
     "output_type": "execute_result"
    }
   ],
   "source": [
    "session.sql(query=\"CREATE OR REPLACE database cars_data\").collect()\n",
    "session.sql(query=\"USE SCHEMA cars_data.public\").collect()"
   ]
  },
  {
   "attachments": {},
   "cell_type": "markdown",
   "metadata": {},
   "source": [
    "### upload the cars data to that snowflake database"
   ]
  },
  {
   "cell_type": "code",
   "execution_count": 6,
   "metadata": {},
   "outputs": [
    {
     "data": {
      "text/plain": [
       "<snowflake.snowpark.table.Table at 0x22e147299a0>"
      ]
     },
     "execution_count": 6,
     "metadata": {},
     "output_type": "execute_result"
    }
   ],
   "source": [
    "# quote_identifiers – By default, identifiers, specifically database, schema, table and column names (from DataFrame.columns) will be quoted. \n",
    "# If set to False, identifiers are passed on to Snowflake without quoting, i.e. identifiers will be coerced to uppercase by Snowflake.\n",
    "\n",
    "session.write_pandas(car_prices, \"CAR_PRICES\", auto_create_table = True, quote_identifiers = False, overwrite = True)\n"
   ]
  },
  {
   "attachments": {},
   "cell_type": "markdown",
   "metadata": {},
   "source": [
    "### Now pretend we start from here\n",
    "We have a snowflake table"
   ]
  },
  {
   "cell_type": "code",
   "execution_count": 10,
   "metadata": {},
   "outputs": [
    {
     "data": {
      "text/plain": [
       "[Row(status='Statement executed successfully.')]"
      ]
     },
     "execution_count": 10,
     "metadata": {},
     "output_type": "execute_result"
    }
   ],
   "source": [
    "session.sql('USE SCHEMA cars_data.public').collect()"
   ]
  },
  {
   "cell_type": "code",
   "execution_count": 13,
   "metadata": {},
   "outputs": [],
   "source": [
    "cars_sf = session.table('CARS_DATA.PUBLIC.CAR_PRICES')"
   ]
  },
  {
   "cell_type": "code",
   "execution_count": 14,
   "metadata": {},
   "outputs": [
    {
     "name": "stdout",
     "output_type": "stream",
     "text": [
      "---------------------------------------------------------------------------------------------------------------------------------------------------------------------------------------------------------------\n",
      "|\"BOUWJAAR\"  |\"KM_STAND\"  |\"BRANDSTOF\"  |\"MOTORINHOUD\"  |\"VERMOGEN\"  |\"TRANSMISSIE\"  |\"TYPE\"               |\"KLEUR\"  |\"DEUR\"    |\"PRIJS\"     |\"MERK\"      |\"MODEL\"  |\"VRAAGPRIJS\"  |\"POWER\"  |\"MOTOR_INHOUD\"  |\n",
      "---------------------------------------------------------------------------------------------------------------------------------------------------------------------------------------------------------------\n",
      "|2018        |54700       |Elektrisch   |NULL           | 245kW      |Automaat       |Hatchback            | Rood    | 5-deurs  |â¬ 54.999  |Tesla       |Model    |54999         |245.0    |NULL            |\n",
      "|2017        |56266       |Elektrisch   |NULL           |NULL        |Automaat       | Hatchback           |Wit      | 5-deurs  |â¬ 22.949  |Volkswagen  |e-Golf   |22949         |NULL     |NULL            |\n",
      "|2021        |1498        |Elektrisch   |NULL           |NULL        |Automaat       | SUV / Terreinwagen  |Groen    | 5-deurs  |â¬ 38.745  |Opel        |Mokka    |38745         |NULL     |NULL            |\n",
      "|2019        |26805       |Elektrisch   |NULL           | 150kW      |Automaat       |SUV / Terreinwagen   | Wit     | 5-deurs  |â¬ 37.900  |Hyundai     |Kona     |37900         |150.0    |NULL            |\n",
      "|2020        |2785        |Elektrisch   |NULL           | 100kW      |Automaat       |Hatchback            | Grijs   | 5-deurs  |â¬ 20.495  |Renault     |Zoe      |20495         |100.0    |NULL            |\n",
      "|2014        |143631      |Elektrisch   |NULL           | 270kW      |Automaat       |Hatchback            | Grijs   | 5-deurs  |â¬ 40.950  |Tesla       |Model    |40950         |270.0    |NULL            |\n",
      "|2014        |77332       |Elektrisch   |NULL           |NULL        |Automaat       | Hatchback           |Grijs    | 3-deurs  |â¬ 13.950  |Fiat        |500e     |13950         |NULL     |NULL            |\n",
      "|2021        |6500        |Elektrisch   |NULL           |NULL        |Automaat       | Hatchback           |Zwart    | 3-deurs  |â¬ 43.650  |MINI        |Mini     |43650         |NULL     |NULL            |\n",
      "|2017        |86952       |Elektrisch   |NULL           |NULL        |Automaat       | Hatchback           |Grijs    | 5-deurs  |â¬ 20.930  |Hyundai     |Ioniq    |20930         |NULL     |NULL            |\n",
      "|2021        |2500        |Elektrisch   |NULL           | 87kW       |Automaat       |Hatchback            | Rood    | 3-deurs  |â¬ 29.950  |Fiat        |500e     |29950         |87.0     |NULL            |\n",
      "---------------------------------------------------------------------------------------------------------------------------------------------------------------------------------------------------------------\n",
      "\n"
     ]
    }
   ],
   "source": [
    "cars_sf.show()"
   ]
  },
  {
   "cell_type": "code",
   "execution_count": 15,
   "metadata": {},
   "outputs": [],
   "source": [
    "cars_sf = (\n",
    "    cars_sf\n",
    "    .with_column('age' , 2023 - cars_sf['BOUWJAAR'])\n",
    "    .with_column('N_doors', cars_sf[\"DEUR\"].substring(1,2))\n",
    ")"
   ]
  },
  {
   "cell_type": "code",
   "execution_count": 16,
   "metadata": {},
   "outputs": [],
   "source": [
    "cars_clean = (\n",
    "    cars_sf\n",
    "    .filter(F.col(\"MERK\").in_(F.lit(\"Opel\"), F.lit(\"Volvo\"), F.lit(\"BMW\")) )\n",
    "    .filter(F.col(\"KM_STAND\") <= 500000)\n",
    "    .filter(F.col(\"AGE\") <= 20 )\n",
    "    .filter(F.col(\"TRANSMISSIE\").in_(F.lit(\"Handgeschakeld\"), F.lit(\"Automaat\")) )\n",
    "    .filter(F.col(\"VRAAGPRIJS\") <= 100000)\n",
    "    .filter(F.col(\"BRANDSTOF\").in_(F.lit(\"Benzine\"), F.lit(\"Diesel\")) )\n",
    ")"
   ]
  },
  {
   "cell_type": "code",
   "execution_count": 17,
   "metadata": {},
   "outputs": [],
   "source": [
    "### split into train and test\n",
    "df_train, df_test = cars_clean.random_split(weights=[0.9, 0.1], seed=0) "
   ]
  },
  {
   "cell_type": "code",
   "execution_count": 18,
   "metadata": {},
   "outputs": [
    {
     "name": "stderr",
     "output_type": "stream",
     "text": [
      "c:\\Users\\LAML04\\Anaconda3\\envs\\py39_snowpark\\lib\\site-packages\\snowflake\\snowpark\\session.py:1383: UserWarning: Pandas Dataframe has non-standard index of type <class 'pandas.core.indexes.numeric.Int64Index'> which will not be written. Consider changing the index to pd.RangeIndex(start=0,...,step=1) or call reset_index() to keep index as column(s)\n",
      "  success, nchunks, nrows, ci_output = write_pandas(\n"
     ]
    }
   ],
   "source": [
    "######### define pipeline\n",
    "### define features in the model\n",
    "cat_cols = [\"MERK\",\"BRANDSTOF\", \"TRANSMISSIE\"]\n",
    "cat_cols_oe = [\"MERK_OE\" ,\"BRANDSTOF_OE\", \"TRANSMISSIE_OE\"]\n",
    "\n",
    "# test pipe\n",
    "pipe_test = Pipeline(\n",
    "    steps = [(\"ohe\", OneHotEncoder(input_cols=cat_cols, output_cols=cat_cols_oe, drop_input_cols = True))]\n",
    ")\n",
    "testdf = pipe_test.fit_transform(df_train)\n"
   ]
  },
  {
   "cell_type": "code",
   "execution_count": 19,
   "metadata": {},
   "outputs": [
    {
     "name": "stdout",
     "output_type": "stream",
     "text": [
      "----------------------------------------------------------------------------------------------------------------------------------------------------------------------------------------------------------------------------------------------------------------------------------------------------------------------------------------------------------\n",
      "|\"MERK_OE_BMW\"  |\"MERK_OE_Opel\"  |\"MERK_OE_Volvo\"  |\"BRANDSTOF_OE_Benzine\"  |\"BRANDSTOF_OE_Diesel\"  |\"TRANSMISSIE_OE_Automaat\"  |\"TRANSMISSIE_OE_Handgeschakeld\"  |\"BOUWJAAR\"  |\"KM_STAND\"  |\"MOTORINHOUD\"  |\"VERMOGEN\"  |\"TYPE\"               |\"KLEUR\"  |\"DEUR\"    |\"PRIJS\"     |\"MODEL\"  |\"VRAAGPRIJS\"  |\"POWER\"  |\"MOTOR_INHOUD\"  |\"AGE\"  |\"N_DOORS\"  |\n",
      "----------------------------------------------------------------------------------------------------------------------------------------------------------------------------------------------------------------------------------------------------------------------------------------------------------------------------------------------------------\n",
      "|0.0            |0.0             |1.0              |1.0                     |0.0                    |1.0                        |0.0                              |2003        |213947      | 2435cc        | 125kW      | Sedan               | Beige   | 4-deurs  |â¬ 3.950   |S80      |3950          |125.0    |2435.0          |20     | 4         |\n",
      "|0.0            |1.0             |0.0              |1.0                     |0.0                    |0.0                        |1.0                              |2016        |72649       | 1398cc        | 66kW       | Hatchback           | Wit     | 5-deurs  |â¬ 8.890   |Corsa    |8890          |66.0     |1398.0          |7      | 5         |\n",
      "|1.0            |0.0             |0.0              |1.0                     |0.0                    |1.0                        |0.0                              |2018        |57706       | 1998cc        | 141kW      | SUV / Terreinwagen  | Blauw   | 5-deurs  |â¬ 31.900  |X1       |31900         |141.0    |1998.0          |5      | 5         |\n",
      "|1.0            |0.0             |0.0              |1.0                     |0.0                    |1.0                        |0.0                              |2021        |5991        | 2998cc        | 260kW      | SUV / Terreinwagen  | Zwart   | 5-deurs  |â¬ 89.875  |X3       |89875         |260.0    |2998.0          |2      | 5         |\n",
      "|0.0            |0.0             |1.0              |1.0                     |0.0                    |1.0                        |0.0                              |2003        |256230      | 2521cc        | 154kW      | Stationwagon        | Blauw   | 5-deurs  |â¬ 7.950   |XC70     |7950          |154.0    |2521.0          |20     | 5         |\n",
      "|0.0            |1.0             |0.0              |1.0                     |0.0                    |0.0                        |1.0                              |2017        |63185       | 999cc         | 55kW       | Hatchback           | Zwart   | 5-deurs  |â¬ 10.445  |Karl     |10445         |55.0     |999.0           |6      | 5         |\n",
      "|0.0            |0.0             |1.0              |0.0                     |1.0                    |0.0                        |1.0                              |2014        |230056      | 1969cc        | 133kW      | Stationwagon        | Blauw   | 5-deurs  |â¬ 11.950  |V70      |11950         |133.0    |1969.0          |9      | 5         |\n",
      "|1.0            |0.0             |0.0              |0.0                     |1.0                    |0.0                        |1.0                              |2017        |61078       | 1995cc        | 110kW      | Hatchback           | Zwart   | 5-deurs  |â¬ 24.900  |3-serie  |24900         |110.0    |1995.0          |6      | 5         |\n",
      "|0.0            |1.0             |0.0              |1.0                     |0.0                    |0.0                        |1.0                              |2020        |35178       | 1199cc        | 74kW       | Hatchback           | Zwart   | 5-deurs  |â¬ 18.995  |Corsa    |18995         |74.0     |1199.0          |3      | 5         |\n",
      "|0.0            |1.0             |0.0              |1.0                     |0.0                    |0.0                        |1.0                              |2016        |87989       | 1398cc        | 74kW       | MPV                 | Grijs   | 5-deurs  |â¬ 11.425  |Meriva   |11425         |74.0     |1398.0          |7      | 5         |\n",
      "----------------------------------------------------------------------------------------------------------------------------------------------------------------------------------------------------------------------------------------------------------------------------------------------------------------------------------------------------------\n",
      "\n"
     ]
    }
   ],
   "source": [
    "testdf.show()"
   ]
  },
  {
   "cell_type": "code",
   "execution_count": 20,
   "metadata": {},
   "outputs": [],
   "source": [
    "from snowflake.ml.modeling.tree import DecisionTreeRegressor\n",
    "\n",
    "model = DecisionTreeRegressor(\n",
    "    input_cols = [\"BOUWJAAR\", \"KM_STAND\"],\n",
    "    label_cols = \"VRAAGPRIJS\",\n",
    "    max_depth = 5\n",
    ")"
   ]
  },
  {
   "cell_type": "code",
   "execution_count": null,
   "metadata": {},
   "outputs": [],
   "source": [
    "model.fit(cars_sf)"
   ]
  },
  {
   "cell_type": "code",
   "execution_count": null,
   "metadata": {},
   "outputs": [],
   "source": []
  }
 ],
 "metadata": {
  "kernelspec": {
   "display_name": "snowpark",
   "language": "python",
   "name": "python3"
  },
  "language_info": {
   "codemirror_mode": {
    "name": "ipython",
    "version": 3
   },
   "file_extension": ".py",
   "mimetype": "text/x-python",
   "name": "python",
   "nbconvert_exporter": "python",
   "pygments_lexer": "ipython3",
   "version": "3.9.16"
  },
  "orig_nbformat": 4
 },
 "nbformat": 4,
 "nbformat_minor": 2
}
