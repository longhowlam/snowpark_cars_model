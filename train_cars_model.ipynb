{
 "cells": [
  {
   "cell_type": "markdown",
   "id": "0779ce05-daf1-43b1-9323-f42d55dc06d4",
   "metadata": {},
   "source": [
    "# train cars price model\n",
    "\n",
    "Given the cars data that we have in snowflake\n",
    "\n",
    "* Use xgboost and Scikit kearns random forest\n",
    "* try MAPIE, for prediction intervals (`!pip install mapie`)"
   ]
  },
  {
   "cell_type": "code",
   "execution_count": 2,
   "id": "337b50fa-b5d4-41c2-92d0-ff911f230255",
   "metadata": {},
   "outputs": [],
   "source": [
    "import os\n",
    "from snowflake.snowpark import Session\n",
    "from snowflake.snowpark import functions as F\n",
    "from connection_config import connection_parameters\n",
    "\n",
    "import pandas as pd\n",
    "\n",
    "#### Current Environment Details\n",
    "def current_snowflake_env():\n",
    "    snowflake_environment = session.sql('select current_user(), current_role(), current_database(), current_schema(), current_version(), current_warehouse()').collect()\n",
    "    print('User                     : {}'.format(snowflake_environment[0][0]))\n",
    "    print('Role                     : {}'.format(snowflake_environment[0][1]))\n",
    "    print('Database                 : {}'.format(snowflake_environment[0][2]))\n",
    "    print('Schema                   : {}'.format(snowflake_environment[0][3]))\n",
    "    print('Warehouse                : {}'.format(snowflake_environment[0][5]))\n",
    "    print('Snowflake version        : {}'.format(snowflake_environment[0][4]))\n",
    "\n",
    "#### Set up a connection with Snowflake\n",
    "session = Session.builder.configs(connection_parameters).create()\n"
   ]
  },
  {
   "cell_type": "code",
   "execution_count": 3,
   "id": "3d5d0c11-545a-4436-8079-755d40639697",
   "metadata": {},
   "outputs": [
    {
     "name": "stdout",
     "output_type": "stream",
     "text": [
      "User                     : SNOWFLAKETRIALUSER\n",
      "Role                     : ACCOUNTADMIN\n",
      "Database                 : SNOWFLAKE_SAMPLE_DATA\n",
      "Schema                   : TPCH_SF10\n",
      "Warehouse                : COMPUTE_WH\n",
      "Snowflake version        : 7.12.5\n"
     ]
    }
   ],
   "source": [
    "current_snowflake_env()"
   ]
  },
  {
   "cell_type": "code",
   "execution_count": null,
   "id": "e6f7bb62-47ef-4b87-9905-2e38c20c5d3b",
   "metadata": {},
   "outputs": [],
   "source": []
  }
 ],
 "metadata": {
  "kernelspec": {
   "display_name": "py38_env:Python",
   "language": "python",
   "name": "conda-env-py38_env-py"
  },
  "language_info": {
   "codemirror_mode": {
    "name": "ipython",
    "version": 3
   },
   "file_extension": ".py",
   "mimetype": "text/x-python",
   "name": "python",
   "nbconvert_exporter": "python",
   "pygments_lexer": "ipython3",
   "version": "3.8.16"
  }
 },
 "nbformat": 4,
 "nbformat_minor": 5
}
